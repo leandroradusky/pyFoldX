{
 "cells": [
  {
   "cell_type": "markdown",
   "id": "mediterranean-soccer",
   "metadata": {},
   "source": [
    "# Repairing structures along an Ensemble\n",
    "\n",
    "By repairing a structure:\n",
    "\n",
    "- All incomplete sidechains will be completed.\n",
    "- Residues with high energy will be self-mutated to try rotamers that minimize the energy.\n",
    "\n",
    "To repair en ensemble of structures is as simple as call the *repair()* method. The *inPlace* parameter determines if the original ensemble will be overwritten with the repaired structures or a new ensemble will be created. By passing a list of residues in FoldX format to the *fixResidues* parameter these residues will not be taken into account for repair."
   ]
  },
  {
   "cell_type": "code",
   "execution_count": 1,
   "id": "powerful-object",
   "metadata": {},
   "outputs": [],
   "source": [
    "# This simulates the installation the user will just import pyFoldx.Ensemble\n",
    "import sys\n",
    "sys.path.append(\"/home/lradusky/Dropbox/workspacesbg/pyFoldX\")"
   ]
  },
  {
   "cell_type": "code",
   "execution_count": 2,
   "id": "furnished-retailer",
   "metadata": {},
   "outputs": [],
   "source": [
    "from pyfoldx.structure import UniprotEnsemble"
   ]
  },
  {
   "cell_type": "code",
   "execution_count": 3,
   "id": "closed-experiment",
   "metadata": {},
   "outputs": [],
   "source": [
    "#Some other imports, to work with the data and to plot\n",
    "import pandas as pd\n",
    "import seaborn as sns\n",
    "import matplotlib.pyplot as plt\n",
    "\n",
    "# We want to print full tables\n",
    "pd.set_option(\"display.max_rows\", 1000, \"display.max_columns\", 1000)"
   ]
  },
  {
   "cell_type": "markdown",
   "id": "secure-paint",
   "metadata": {},
   "source": [
    "We will create a *UniprotEnsemble* object with high quality structures of the HRAS gene."
   ]
  },
  {
   "cell_type": "code",
   "execution_count": 4,
   "id": "accepting-roberts",
   "metadata": {},
   "outputs": [
    {
     "name": "stdout",
     "output_type": "stream",
     "text": [
      "Master Structure is 2CE2:\n",
      "Aligning to master (total: 10)\n",
      "100%|██████████| 9/9 [00:10<00:00,  1.11s/it]\n",
      "Ensemble built\n",
      "Total structures aligned: 5\n"
     ]
    }
   ],
   "source": [
    "working_path = \"/home/lradusky/Downloads/P01112/ensemble.pdb\"\n",
    "t = UniprotEnsemble(\"P01112\", working_path, just_xray=True, max_resolution=1.3)"
   ]
  },
  {
   "cell_type": "markdown",
   "id": "strong-punishment",
   "metadata": {},
   "source": [
    "Let's observe the energies of the loaded structures."
   ]
  },
  {
   "cell_type": "code",
   "execution_count": 5,
   "id": "analyzed-moses",
   "metadata": {},
   "outputs": [
    {
     "name": "stdout",
     "output_type": "stream",
     "text": [
      "Computing total energy for ensemble...\n",
      "  0%|          | 0/5 [00:00<?, ?it/s]"
     ]
    },
    {
     "name": "stderr",
     "output_type": "stream",
     "text": [
      "/home/lradusky/.local/lib/python3.8/site-packages/ipykernel/ipkernel.py:283: DeprecationWarning: `should_run_async` will not call `transform_cell` automatically in the future. Please pass the result to `transformed_cell` argument and any exception that happen during thetransform in `preprocessing_exc_tuple` in IPython 7.17 and above.\n",
      "  and should_run_async(code)\n"
     ]
    },
    {
     "name": "stdout",
     "output_type": "stream",
     "text": [
      "100%|██████████| 5/5 [00:02<00:00,  1.85it/s]\n",
      "Energy computed.\n"
     ]
    },
    {
     "data": {
      "text/html": [
       "<div>\n",
       "<style scoped>\n",
       "    .dataframe tbody tr th:only-of-type {\n",
       "        vertical-align: middle;\n",
       "    }\n",
       "\n",
       "    .dataframe tbody tr th {\n",
       "        vertical-align: top;\n",
       "    }\n",
       "\n",
       "    .dataframe thead th {\n",
       "        text-align: right;\n",
       "    }\n",
       "</style>\n",
       "<table border=\"1\" class=\"dataframe\">\n",
       "  <thead>\n",
       "    <tr style=\"text-align: right;\">\n",
       "      <th></th>\n",
       "      <th>total</th>\n",
       "      <th>backHbond</th>\n",
       "      <th>sideHbond</th>\n",
       "      <th>energy_VdW</th>\n",
       "      <th>electro</th>\n",
       "      <th>energy_SolvP</th>\n",
       "      <th>energy_SolvH</th>\n",
       "      <th>energy_vdwclash</th>\n",
       "      <th>entrop_sc</th>\n",
       "      <th>entrop_mc</th>\n",
       "      <th>sloop_entropy</th>\n",
       "      <th>mloop_entropy</th>\n",
       "      <th>cis_bond</th>\n",
       "      <th>energy_torsion</th>\n",
       "      <th>backbone_vdwclash</th>\n",
       "      <th>energy_dipole</th>\n",
       "      <th>water</th>\n",
       "      <th>disulfide</th>\n",
       "      <th>energy_kon</th>\n",
       "      <th>partcov</th>\n",
       "      <th>energyIonisation</th>\n",
       "      <th>entr_complex</th>\n",
       "    </tr>\n",
       "  </thead>\n",
       "  <tbody>\n",
       "    <tr>\n",
       "      <th>2EVW_X</th>\n",
       "      <td>93.703952</td>\n",
       "      <td>-111.073846</td>\n",
       "      <td>-29.491851</td>\n",
       "      <td>-192.182071</td>\n",
       "      <td>-12.148993</td>\n",
       "      <td>279.608121</td>\n",
       "      <td>-247.676069</td>\n",
       "      <td>43.629693</td>\n",
       "      <td>103.598362</td>\n",
       "      <td>252.946217</td>\n",
       "      <td>0.0</td>\n",
       "      <td>0.0</td>\n",
       "      <td>0.0</td>\n",
       "      <td>13.378801</td>\n",
       "      <td>113.104381</td>\n",
       "      <td>-0.735286</td>\n",
       "      <td>0.0</td>\n",
       "      <td>0.0</td>\n",
       "      <td>0.0</td>\n",
       "      <td>-6.709667</td>\n",
       "      <td>0.560541</td>\n",
       "      <td>0.0</td>\n",
       "    </tr>\n",
       "    <tr>\n",
       "      <th>2CLC_X</th>\n",
       "      <td>93.476385</td>\n",
       "      <td>-109.464290</td>\n",
       "      <td>-30.688286</td>\n",
       "      <td>-200.418538</td>\n",
       "      <td>-18.048631</td>\n",
       "      <td>311.141307</td>\n",
       "      <td>-254.704771</td>\n",
       "      <td>45.446318</td>\n",
       "      <td>103.440693</td>\n",
       "      <td>254.939831</td>\n",
       "      <td>0.0</td>\n",
       "      <td>0.0</td>\n",
       "      <td>0.0</td>\n",
       "      <td>7.575724</td>\n",
       "      <td>115.269496</td>\n",
       "      <td>-5.681022</td>\n",
       "      <td>0.0</td>\n",
       "      <td>0.0</td>\n",
       "      <td>0.0</td>\n",
       "      <td>-10.639250</td>\n",
       "      <td>0.577299</td>\n",
       "      <td>0.0</td>\n",
       "    </tr>\n",
       "    <tr>\n",
       "      <th>2CL7_X</th>\n",
       "      <td>86.292745</td>\n",
       "      <td>-111.538911</td>\n",
       "      <td>-27.169249</td>\n",
       "      <td>-200.011466</td>\n",
       "      <td>-18.159637</td>\n",
       "      <td>308.325486</td>\n",
       "      <td>-254.709544</td>\n",
       "      <td>40.685399</td>\n",
       "      <td>103.711419</td>\n",
       "      <td>253.428963</td>\n",
       "      <td>0.0</td>\n",
       "      <td>0.0</td>\n",
       "      <td>0.0</td>\n",
       "      <td>6.585408</td>\n",
       "      <td>116.932302</td>\n",
       "      <td>-5.474804</td>\n",
       "      <td>0.0</td>\n",
       "      <td>0.0</td>\n",
       "      <td>0.0</td>\n",
       "      <td>-9.963020</td>\n",
       "      <td>0.582701</td>\n",
       "      <td>0.0</td>\n",
       "    </tr>\n",
       "    <tr>\n",
       "      <th>2CL6_A</th>\n",
       "      <td>69.931387</td>\n",
       "      <td>-113.591534</td>\n",
       "      <td>-31.942092</td>\n",
       "      <td>-192.620295</td>\n",
       "      <td>-12.501736</td>\n",
       "      <td>274.638717</td>\n",
       "      <td>-249.594714</td>\n",
       "      <td>38.263628</td>\n",
       "      <td>104.513632</td>\n",
       "      <td>249.041162</td>\n",
       "      <td>0.0</td>\n",
       "      <td>0.0</td>\n",
       "      <td>0.0</td>\n",
       "      <td>7.898396</td>\n",
       "      <td>109.828497</td>\n",
       "      <td>-1.505435</td>\n",
       "      <td>0.0</td>\n",
       "      <td>0.0</td>\n",
       "      <td>0.0</td>\n",
       "      <td>-3.419710</td>\n",
       "      <td>0.751368</td>\n",
       "      <td>0.0</td>\n",
       "    </tr>\n",
       "    <tr>\n",
       "      <th>2CLD_A</th>\n",
       "      <td>77.114036</td>\n",
       "      <td>-115.311923</td>\n",
       "      <td>-26.408190</td>\n",
       "      <td>-198.777268</td>\n",
       "      <td>-17.557395</td>\n",
       "      <td>297.677110</td>\n",
       "      <td>-253.871793</td>\n",
       "      <td>31.511867</td>\n",
       "      <td>103.896112</td>\n",
       "      <td>244.929615</td>\n",
       "      <td>0.0</td>\n",
       "      <td>0.0</td>\n",
       "      <td>0.0</td>\n",
       "      <td>18.506635</td>\n",
       "      <td>109.893867</td>\n",
       "      <td>-6.335413</td>\n",
       "      <td>0.0</td>\n",
       "      <td>0.0</td>\n",
       "      <td>0.0</td>\n",
       "      <td>-1.675131</td>\n",
       "      <td>0.529810</td>\n",
       "      <td>0.0</td>\n",
       "    </tr>\n",
       "  </tbody>\n",
       "</table>\n",
       "</div>"
      ],
      "text/plain": [
       "            total   backHbond  sideHbond  energy_VdW    electro  energy_SolvP  \\\n",
       "2EVW_X  93.703952 -111.073846 -29.491851 -192.182071 -12.148993    279.608121   \n",
       "2CLC_X  93.476385 -109.464290 -30.688286 -200.418538 -18.048631    311.141307   \n",
       "2CL7_X  86.292745 -111.538911 -27.169249 -200.011466 -18.159637    308.325486   \n",
       "2CL6_A  69.931387 -113.591534 -31.942092 -192.620295 -12.501736    274.638717   \n",
       "2CLD_A  77.114036 -115.311923 -26.408190 -198.777268 -17.557395    297.677110   \n",
       "\n",
       "        energy_SolvH  energy_vdwclash   entrop_sc   entrop_mc  sloop_entropy  \\\n",
       "2EVW_X   -247.676069        43.629693  103.598362  252.946217            0.0   \n",
       "2CLC_X   -254.704771        45.446318  103.440693  254.939831            0.0   \n",
       "2CL7_X   -254.709544        40.685399  103.711419  253.428963            0.0   \n",
       "2CL6_A   -249.594714        38.263628  104.513632  249.041162            0.0   \n",
       "2CLD_A   -253.871793        31.511867  103.896112  244.929615            0.0   \n",
       "\n",
       "        mloop_entropy  cis_bond  energy_torsion  backbone_vdwclash  \\\n",
       "2EVW_X            0.0       0.0       13.378801         113.104381   \n",
       "2CLC_X            0.0       0.0        7.575724         115.269496   \n",
       "2CL7_X            0.0       0.0        6.585408         116.932302   \n",
       "2CL6_A            0.0       0.0        7.898396         109.828497   \n",
       "2CLD_A            0.0       0.0       18.506635         109.893867   \n",
       "\n",
       "        energy_dipole  water  disulfide  energy_kon    partcov  \\\n",
       "2EVW_X      -0.735286    0.0        0.0         0.0  -6.709667   \n",
       "2CLC_X      -5.681022    0.0        0.0         0.0 -10.639250   \n",
       "2CL7_X      -5.474804    0.0        0.0         0.0  -9.963020   \n",
       "2CL6_A      -1.505435    0.0        0.0         0.0  -3.419710   \n",
       "2CLD_A      -6.335413    0.0        0.0         0.0  -1.675131   \n",
       "\n",
       "        energyIonisation  entr_complex  \n",
       "2EVW_X          0.560541           0.0  \n",
       "2CLC_X          0.577299           0.0  \n",
       "2CL7_X          0.582701           0.0  \n",
       "2CL6_A          0.751368           0.0  \n",
       "2CLD_A          0.529810           0.0  "
      ]
     },
     "execution_count": 5,
     "metadata": {},
     "output_type": "execute_result"
    }
   ],
   "source": [
    "t.getTotalEnergy()"
   ]
  },
  {
   "cell_type": "markdown",
   "id": "periodic-mobile",
   "metadata": {},
   "source": [
    "Now, let's repair all the structures within the ensemble and save it to a file. "
   ]
  },
  {
   "cell_type": "code",
   "execution_count": 6,
   "id": "contained-cloud",
   "metadata": {},
   "outputs": [
    {
     "name": "stdout",
     "output_type": "stream",
     "text": [
      "Repairing structures along ensemble...\n",
      "  0%|          | 0/5 [00:00<?, ?it/s]"
     ]
    },
    {
     "name": "stderr",
     "output_type": "stream",
     "text": [
      "/home/lradusky/.local/lib/python3.8/site-packages/ipykernel/ipkernel.py:283: DeprecationWarning: `should_run_async` will not call `transform_cell` automatically in the future. Please pass the result to `transformed_cell` argument and any exception that happen during thetransform in `preprocessing_exc_tuple` in IPython 7.17 and above.\n",
      "  and should_run_async(code)\n"
     ]
    },
    {
     "name": "stdout",
     "output_type": "stream",
     "text": [
      "100%|██████████| 5/5 [13:48<00:00, 165.73s/it]\n",
      "Structures repaired.\n"
     ]
    }
   ],
   "source": [
    "t.repair()\n",
    "t.saveToPDB(working_path+\"repaired.pdb\")"
   ]
  },
  {
   "cell_type": "markdown",
   "id": "dirty-shield",
   "metadata": {},
   "source": [
    "And we can check that the energy of the structures was minimized."
   ]
  },
  {
   "cell_type": "code",
   "execution_count": 7,
   "id": "paperback-discipline",
   "metadata": {},
   "outputs": [
    {
     "name": "stdout",
     "output_type": "stream",
     "text": [
      "Computing total energy for ensemble...\n",
      "100%|██████████| 5/5 [00:02<00:00,  2.06it/s]\n",
      "Energy computed.\n"
     ]
    },
    {
     "data": {
      "text/html": [
       "<div>\n",
       "<style scoped>\n",
       "    .dataframe tbody tr th:only-of-type {\n",
       "        vertical-align: middle;\n",
       "    }\n",
       "\n",
       "    .dataframe tbody tr th {\n",
       "        vertical-align: top;\n",
       "    }\n",
       "\n",
       "    .dataframe thead th {\n",
       "        text-align: right;\n",
       "    }\n",
       "</style>\n",
       "<table border=\"1\" class=\"dataframe\">\n",
       "  <thead>\n",
       "    <tr style=\"text-align: right;\">\n",
       "      <th></th>\n",
       "      <th>total</th>\n",
       "      <th>backHbond</th>\n",
       "      <th>sideHbond</th>\n",
       "      <th>energy_VdW</th>\n",
       "      <th>electro</th>\n",
       "      <th>energy_SolvP</th>\n",
       "      <th>energy_SolvH</th>\n",
       "      <th>energy_vdwclash</th>\n",
       "      <th>entrop_sc</th>\n",
       "      <th>entrop_mc</th>\n",
       "      <th>sloop_entropy</th>\n",
       "      <th>mloop_entropy</th>\n",
       "      <th>cis_bond</th>\n",
       "      <th>energy_torsion</th>\n",
       "      <th>backbone_vdwclash</th>\n",
       "      <th>energy_dipole</th>\n",
       "      <th>water</th>\n",
       "      <th>disulfide</th>\n",
       "      <th>energy_kon</th>\n",
       "      <th>partcov</th>\n",
       "      <th>energyIonisation</th>\n",
       "      <th>entr_complex</th>\n",
       "    </tr>\n",
       "  </thead>\n",
       "  <tbody>\n",
       "    <tr>\n",
       "      <th>2EVW_X</th>\n",
       "      <td>-0.827638</td>\n",
       "      <td>-124.566575</td>\n",
       "      <td>-62.851921</td>\n",
       "      <td>-190.094845</td>\n",
       "      <td>-13.564645</td>\n",
       "      <td>266.531003</td>\n",
       "      <td>-247.756823</td>\n",
       "      <td>10.976832</td>\n",
       "      <td>113.061289</td>\n",
       "      <td>252.702583</td>\n",
       "      <td>0.0</td>\n",
       "      <td>0.0</td>\n",
       "      <td>0.0</td>\n",
       "      <td>3.435189</td>\n",
       "      <td>113.294644</td>\n",
       "      <td>-3.106125</td>\n",
       "      <td>0.0</td>\n",
       "      <td>0.0</td>\n",
       "      <td>0.0</td>\n",
       "      <td>-6.417249</td>\n",
       "      <td>0.823648</td>\n",
       "      <td>0.0</td>\n",
       "    </tr>\n",
       "    <tr>\n",
       "      <th>2CLC_X</th>\n",
       "      <td>12.411879</td>\n",
       "      <td>-120.661980</td>\n",
       "      <td>-57.489912</td>\n",
       "      <td>-200.295610</td>\n",
       "      <td>-20.218037</td>\n",
       "      <td>299.166200</td>\n",
       "      <td>-258.292186</td>\n",
       "      <td>15.542145</td>\n",
       "      <td>114.427633</td>\n",
       "      <td>254.124038</td>\n",
       "      <td>0.0</td>\n",
       "      <td>0.0</td>\n",
       "      <td>0.0</td>\n",
       "      <td>3.228374</td>\n",
       "      <td>114.896776</td>\n",
       "      <td>-7.280528</td>\n",
       "      <td>0.0</td>\n",
       "      <td>0.0</td>\n",
       "      <td>0.0</td>\n",
       "      <td>-10.801287</td>\n",
       "      <td>0.963029</td>\n",
       "      <td>0.0</td>\n",
       "    </tr>\n",
       "    <tr>\n",
       "      <th>2CL7_X</th>\n",
       "      <td>13.714050</td>\n",
       "      <td>-124.052563</td>\n",
       "      <td>-49.584310</td>\n",
       "      <td>-199.377529</td>\n",
       "      <td>-19.843947</td>\n",
       "      <td>297.633695</td>\n",
       "      <td>-257.245278</td>\n",
       "      <td>14.834830</td>\n",
       "      <td>111.303658</td>\n",
       "      <td>254.564041</td>\n",
       "      <td>0.0</td>\n",
       "      <td>0.0</td>\n",
       "      <td>0.0</td>\n",
       "      <td>3.449865</td>\n",
       "      <td>115.589051</td>\n",
       "      <td>-8.106417</td>\n",
       "      <td>0.0</td>\n",
       "      <td>0.0</td>\n",
       "      <td>0.0</td>\n",
       "      <td>-10.464250</td>\n",
       "      <td>0.602255</td>\n",
       "      <td>0.0</td>\n",
       "    </tr>\n",
       "    <tr>\n",
       "      <th>2CL6_A</th>\n",
       "      <td>-9.912858</td>\n",
       "      <td>-124.106959</td>\n",
       "      <td>-64.988106</td>\n",
       "      <td>-195.965254</td>\n",
       "      <td>-15.454159</td>\n",
       "      <td>272.575160</td>\n",
       "      <td>-256.583301</td>\n",
       "      <td>9.198078</td>\n",
       "      <td>117.514158</td>\n",
       "      <td>248.154759</td>\n",
       "      <td>0.0</td>\n",
       "      <td>0.0</td>\n",
       "      <td>0.0</td>\n",
       "      <td>4.115418</td>\n",
       "      <td>110.090365</td>\n",
       "      <td>-1.846323</td>\n",
       "      <td>0.0</td>\n",
       "      <td>0.0</td>\n",
       "      <td>0.0</td>\n",
       "      <td>-3.346689</td>\n",
       "      <td>0.820360</td>\n",
       "      <td>0.0</td>\n",
       "    </tr>\n",
       "    <tr>\n",
       "      <th>2CLD_A</th>\n",
       "      <td>0.224361</td>\n",
       "      <td>-131.138877</td>\n",
       "      <td>-56.868578</td>\n",
       "      <td>-199.535943</td>\n",
       "      <td>-18.244543</td>\n",
       "      <td>288.124936</td>\n",
       "      <td>-256.940621</td>\n",
       "      <td>11.303503</td>\n",
       "      <td>115.391178</td>\n",
       "      <td>246.914890</td>\n",
       "      <td>0.0</td>\n",
       "      <td>0.0</td>\n",
       "      <td>0.0</td>\n",
       "      <td>10.137852</td>\n",
       "      <td>110.235380</td>\n",
       "      <td>-7.979886</td>\n",
       "      <td>0.0</td>\n",
       "      <td>0.0</td>\n",
       "      <td>0.0</td>\n",
       "      <td>-1.518440</td>\n",
       "      <td>0.578890</td>\n",
       "      <td>0.0</td>\n",
       "    </tr>\n",
       "  </tbody>\n",
       "</table>\n",
       "</div>"
      ],
      "text/plain": [
       "            total   backHbond  sideHbond  energy_VdW    electro  energy_SolvP  \\\n",
       "2EVW_X  -0.827638 -124.566575 -62.851921 -190.094845 -13.564645    266.531003   \n",
       "2CLC_X  12.411879 -120.661980 -57.489912 -200.295610 -20.218037    299.166200   \n",
       "2CL7_X  13.714050 -124.052563 -49.584310 -199.377529 -19.843947    297.633695   \n",
       "2CL6_A  -9.912858 -124.106959 -64.988106 -195.965254 -15.454159    272.575160   \n",
       "2CLD_A   0.224361 -131.138877 -56.868578 -199.535943 -18.244543    288.124936   \n",
       "\n",
       "        energy_SolvH  energy_vdwclash   entrop_sc   entrop_mc  sloop_entropy  \\\n",
       "2EVW_X   -247.756823        10.976832  113.061289  252.702583            0.0   \n",
       "2CLC_X   -258.292186        15.542145  114.427633  254.124038            0.0   \n",
       "2CL7_X   -257.245278        14.834830  111.303658  254.564041            0.0   \n",
       "2CL6_A   -256.583301         9.198078  117.514158  248.154759            0.0   \n",
       "2CLD_A   -256.940621        11.303503  115.391178  246.914890            0.0   \n",
       "\n",
       "        mloop_entropy  cis_bond  energy_torsion  backbone_vdwclash  \\\n",
       "2EVW_X            0.0       0.0        3.435189         113.294644   \n",
       "2CLC_X            0.0       0.0        3.228374         114.896776   \n",
       "2CL7_X            0.0       0.0        3.449865         115.589051   \n",
       "2CL6_A            0.0       0.0        4.115418         110.090365   \n",
       "2CLD_A            0.0       0.0       10.137852         110.235380   \n",
       "\n",
       "        energy_dipole  water  disulfide  energy_kon    partcov  \\\n",
       "2EVW_X      -3.106125    0.0        0.0         0.0  -6.417249   \n",
       "2CLC_X      -7.280528    0.0        0.0         0.0 -10.801287   \n",
       "2CL7_X      -8.106417    0.0        0.0         0.0 -10.464250   \n",
       "2CL6_A      -1.846323    0.0        0.0         0.0  -3.346689   \n",
       "2CLD_A      -7.979886    0.0        0.0         0.0  -1.518440   \n",
       "\n",
       "        energyIonisation  entr_complex  \n",
       "2EVW_X          0.823648           0.0  \n",
       "2CLC_X          0.963029           0.0  \n",
       "2CL7_X          0.602255           0.0  \n",
       "2CL6_A          0.820360           0.0  \n",
       "2CLD_A          0.578890           0.0  "
      ]
     },
     "execution_count": 7,
     "metadata": {},
     "output_type": "execute_result"
    }
   ],
   "source": [
    "t.getTotalEnergy()"
   ]
  },
  {
   "cell_type": "code",
   "execution_count": 8,
   "id": "above-entrance",
   "metadata": {},
   "outputs": [
    {
     "name": "stdout",
     "output_type": "stream",
     "text": [
      "Computing residue energy for ensemble...\n",
      "  0%|          | 0/5 [00:00<?, ?it/s]"
     ]
    },
    {
     "name": "stderr",
     "output_type": "stream",
     "text": [
      "/home/lradusky/.local/lib/python3.8/site-packages/ipykernel/ipkernel.py:283: DeprecationWarning: `should_run_async` will not call `transform_cell` automatically in the future. Please pass the result to `transformed_cell` argument and any exception that happen during thetransform in `preprocessing_exc_tuple` in IPython 7.17 and above.\n",
      "  and should_run_async(code)\n"
     ]
    },
    {
     "name": "stdout",
     "output_type": "stream",
     "text": [
      "100%|██████████| 5/5 [00:02<00:00,  1.75it/s]\n",
      "Energy computed.\n"
     ]
    },
    {
     "data": {
      "text/plain": [
       "<matplotlib.axes._subplots.AxesSubplot at 0x7f94dec086a0>"
      ]
     },
     "execution_count": 8,
     "metadata": {},
     "output_type": "execute_result"
    },
    {
     "data": {
      "image/png": "[encoded data removed]",
      "text/plain": [
       "<Figure size 720x2520 with 2 Axes>"
      ]
     },
     "metadata": {
      "needs_background": "light"
     },
     "output_type": "display_data"
    }
   ],
   "source": [
    "plt.figure(figsize=(10,35))\n",
    "sns.heatmap(t.getResiduesEnergy())"
   ]
  },
  {
   "cell_type": "code",
   "execution_count": null,
   "id": "polyphonic-ancient",
   "metadata": {},
   "outputs": [],
   "source": []
  },
  {
   "cell_type": "code",
   "execution_count": null,
   "id": "explicit-seeking",
   "metadata": {},
   "outputs": [],
   "source": []
  },
  {
   "cell_type": "code",
   "execution_count": null,
   "id": "further-roberts",
   "metadata": {},
   "outputs": [],
   "source": []
  },
  {
   "cell_type": "code",
   "execution_count": null,
   "id": "civic-mobile",
   "metadata": {},
   "outputs": [],
   "source": []
  }
 ],
 "metadata": {
  "kernelspec": {
   "display_name": "Python 3",
   "language": "python",
   "name": "python3"
  },
  "language_info": {
   "codemirror_mode": {
    "name": "ipython",
    "version": 3
   },
   "file_extension": ".py",
   "mimetype": "text/x-python",
   "name": "python",
   "nbconvert_exporter": "python",
   "pygments_lexer": "ipython3",
   "version": "3.8.3"
  }
 },
 "nbformat": 4,
 "nbformat_minor": 5
}
