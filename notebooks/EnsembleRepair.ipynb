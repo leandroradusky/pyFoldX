{
 "cells": [
  {
   "cell_type": "markdown",
   "id": "personalized-alfred",
   "metadata": {},
   "source": [
    "# Repairing structures along an Ensemble\n",
    "\n",
    "By repairing a structure:\n",
    "\n",
    "- All incomplete sidechains will be completed.\n",
    "- Residues with high energy will be self-mutated to try rotamers that minimize the energy.\n",
    "\n",
    "To repair en ensemble of structures is as simple as call the *repair()* method. The *inPlace* parameter determines if the original ensemble will be overwritten with the repaired structures or a new ensemble will be created. By passing a list of residues in FoldX format to the *fixResidues* parameter these residues will not be taken into account for repair."
   ]
  },
  {
   "cell_type": "code",
   "execution_count": 1,
   "id": "final-drawing",
   "metadata": {},
   "outputs": [],
   "source": [
    "# This simulates the installation the user will just import pyFoldx.Ensemble\n",
    "import sys\n",
    "sys.path.append(\"/home/lradusky/Dropbox/workspacesbg/pyFoldX\")"
   ]
  },
  {
   "cell_type": "code",
   "execution_count": 2,
   "id": "continued-reservation",
   "metadata": {},
   "outputs": [],
   "source": [
    "from src.structure.Ensemble import uniprotEnsemble"
   ]
  },
  {
   "cell_type": "code",
   "execution_count": 3,
   "id": "approved-hopkins",
   "metadata": {},
   "outputs": [],
   "source": [
    "#Some other imports, to work with the data and to plot\n",
    "import pandas as pd\n",
    "import seaborn as sns\n",
    "import matplotlib.pyplot as plt\n",
    "import warnings\n",
    "\n",
    "# We want to print full tables\n",
    "pd.set_option(\"display.max_rows\", 1000, \"display.max_columns\", 1000)\n",
    "# We ignore warnings\n",
    "warnings.filterwarnings('ignore')\n",
    "warnings.simplefilter('ignore')"
   ]
  },
  {
   "cell_type": "markdown",
   "id": "responsible-barrier",
   "metadata": {},
   "source": [
    "We will create a *UniprotEnsemble* object with high quality structures of the HRAS gene."
   ]
  },
  {
   "cell_type": "code",
   "execution_count": 4,
   "id": "broad-respondent",
   "metadata": {},
   "outputs": [
    {
     "name": "stdout",
     "output_type": "stream",
     "text": [
      "Master Structure is 2CLD:\n",
      "Aligning to master (total: 10)\n",
      "100%|██████████| 9/9 [00:20<00:00,  2.31s/it]\n",
      "Ensemble built\n",
      "Total structures aligned: 5\n"
     ]
    }
   ],
   "source": [
    "workingPath = \"/home/lradusky/Downloads/P01112/ensemble.pdb\"\n",
    "t = uniprotEnsemble(\"P01112\", workingPath, justXray=True, maxResolution=1.3)"
   ]
  },
  {
   "cell_type": "markdown",
   "id": "played-binding",
   "metadata": {},
   "source": [
    "Let's observe the energies of the loaded structures."
   ]
  },
  {
   "cell_type": "code",
   "execution_count": 5,
   "id": "regional-devon",
   "metadata": {},
   "outputs": [
    {
     "name": "stdout",
     "output_type": "stream",
     "text": [
      "Computing total energy for ensemble...\n",
      "  0%|          | 0/5 [00:00<?, ?it/s]"
     ]
    },
    {
     "name": "stderr",
     "output_type": "stream",
     "text": [
      "/home/lradusky/.local/lib/python3.8/site-packages/ipykernel/ipkernel.py:283: DeprecationWarning: `should_run_async` will not call `transform_cell` automatically in the future. Please pass the result to `transformed_cell` argument and any exception that happen during thetransform in `preprocessing_exc_tuple` in IPython 7.17 and above.\n",
      "  and should_run_async(code)\n"
     ]
    },
    {
     "name": "stdout",
     "output_type": "stream",
     "text": [
      "100%|██████████| 5/5 [00:03<00:00,  1.45it/s]\n",
      "Energy computed.\n"
     ]
    },
    {
     "data": {
      "text/html": [
       "<div>\n",
       "<style scoped>\n",
       "    .dataframe tbody tr th:only-of-type {\n",
       "        vertical-align: middle;\n",
       "    }\n",
       "\n",
       "    .dataframe tbody tr th {\n",
       "        vertical-align: top;\n",
       "    }\n",
       "\n",
       "    .dataframe thead th {\n",
       "        text-align: right;\n",
       "    }\n",
       "</style>\n",
       "<table border=\"1\" class=\"dataframe\">\n",
       "  <thead>\n",
       "    <tr style=\"text-align: right;\">\n",
       "      <th></th>\n",
       "      <th>total</th>\n",
       "      <th>backHbond</th>\n",
       "      <th>sideHbond</th>\n",
       "      <th>energy_VdW</th>\n",
       "      <th>electro</th>\n",
       "      <th>energy_SolvP</th>\n",
       "      <th>energy_SolvH</th>\n",
       "      <th>energy_vdwclash</th>\n",
       "      <th>entrop_sc</th>\n",
       "      <th>entrop_mc</th>\n",
       "      <th>sloop_entropy</th>\n",
       "      <th>mloop_entropy</th>\n",
       "      <th>cis_bond</th>\n",
       "      <th>energy_torsion</th>\n",
       "      <th>backbone_vdwclash</th>\n",
       "      <th>energy_dipole</th>\n",
       "      <th>water</th>\n",
       "      <th>disulfide</th>\n",
       "      <th>energy_kon</th>\n",
       "      <th>partcov</th>\n",
       "      <th>energyIonisation</th>\n",
       "      <th>entr_complex</th>\n",
       "    </tr>\n",
       "  </thead>\n",
       "  <tbody>\n",
       "    <tr>\n",
       "      <th>2CL7_X</th>\n",
       "      <td>77.942203</td>\n",
       "      <td>-111.291695</td>\n",
       "      <td>-26.953664</td>\n",
       "      <td>-190.881336</td>\n",
       "      <td>-15.136992</td>\n",
       "      <td>281.258345</td>\n",
       "      <td>-247.234361</td>\n",
       "      <td>36.111585</td>\n",
       "      <td>103.132881</td>\n",
       "      <td>252.515900</td>\n",
       "      <td>0.0</td>\n",
       "      <td>0.0</td>\n",
       "      <td>0.0</td>\n",
       "      <td>6.527641</td>\n",
       "      <td>112.082936</td>\n",
       "      <td>-3.077530</td>\n",
       "      <td>0.0</td>\n",
       "      <td>0.0</td>\n",
       "      <td>0.0</td>\n",
       "      <td>-7.611298</td>\n",
       "      <td>0.582727</td>\n",
       "      <td>0.0</td>\n",
       "    </tr>\n",
       "    <tr>\n",
       "      <th>2CL6_X</th>\n",
       "      <td>69.754977</td>\n",
       "      <td>-113.582003</td>\n",
       "      <td>-32.399681</td>\n",
       "      <td>-192.621118</td>\n",
       "      <td>-12.502671</td>\n",
       "      <td>274.639621</td>\n",
       "      <td>-249.600677</td>\n",
       "      <td>38.270879</td>\n",
       "      <td>104.769843</td>\n",
       "      <td>249.038238</td>\n",
       "      <td>0.0</td>\n",
       "      <td>0.0</td>\n",
       "      <td>0.0</td>\n",
       "      <td>7.913739</td>\n",
       "      <td>109.842862</td>\n",
       "      <td>-1.504576</td>\n",
       "      <td>0.0</td>\n",
       "      <td>0.0</td>\n",
       "      <td>0.0</td>\n",
       "      <td>-3.418036</td>\n",
       "      <td>0.751419</td>\n",
       "      <td>0.0</td>\n",
       "    </tr>\n",
       "    <tr>\n",
       "      <th>2CLC_A</th>\n",
       "      <td>86.210158</td>\n",
       "      <td>-109.239725</td>\n",
       "      <td>-30.487225</td>\n",
       "      <td>-191.235770</td>\n",
       "      <td>-15.179351</td>\n",
       "      <td>283.635434</td>\n",
       "      <td>-247.338622</td>\n",
       "      <td>42.898409</td>\n",
       "      <td>102.940965</td>\n",
       "      <td>253.542080</td>\n",
       "      <td>0.0</td>\n",
       "      <td>0.0</td>\n",
       "      <td>0.0</td>\n",
       "      <td>7.520797</td>\n",
       "      <td>110.413926</td>\n",
       "      <td>-3.125417</td>\n",
       "      <td>0.0</td>\n",
       "      <td>0.0</td>\n",
       "      <td>0.0</td>\n",
       "      <td>-8.298718</td>\n",
       "      <td>0.577303</td>\n",
       "      <td>0.0</td>\n",
       "    </tr>\n",
       "    <tr>\n",
       "      <th>2CE2_A</th>\n",
       "      <td>62.999159</td>\n",
       "      <td>-111.746914</td>\n",
       "      <td>-33.116126</td>\n",
       "      <td>-198.368332</td>\n",
       "      <td>-14.268230</td>\n",
       "      <td>284.752122</td>\n",
       "      <td>-258.394913</td>\n",
       "      <td>34.122245</td>\n",
       "      <td>105.665929</td>\n",
       "      <td>250.639054</td>\n",
       "      <td>0.0</td>\n",
       "      <td>0.0</td>\n",
       "      <td>0.0</td>\n",
       "      <td>7.118098</td>\n",
       "      <td>114.654297</td>\n",
       "      <td>-1.258187</td>\n",
       "      <td>0.0</td>\n",
       "      <td>0.0</td>\n",
       "      <td>0.0</td>\n",
       "      <td>-2.302567</td>\n",
       "      <td>0.156981</td>\n",
       "      <td>0.0</td>\n",
       "    </tr>\n",
       "    <tr>\n",
       "      <th>2EVW_X</th>\n",
       "      <td>93.708451</td>\n",
       "      <td>-111.043142</td>\n",
       "      <td>-29.490715</td>\n",
       "      <td>-192.170180</td>\n",
       "      <td>-12.150174</td>\n",
       "      <td>279.613594</td>\n",
       "      <td>-247.666973</td>\n",
       "      <td>43.598583</td>\n",
       "      <td>103.598072</td>\n",
       "      <td>252.934674</td>\n",
       "      <td>0.0</td>\n",
       "      <td>0.0</td>\n",
       "      <td>0.0</td>\n",
       "      <td>13.366054</td>\n",
       "      <td>113.077846</td>\n",
       "      <td>-0.735763</td>\n",
       "      <td>0.0</td>\n",
       "      <td>0.0</td>\n",
       "      <td>0.0</td>\n",
       "      <td>-6.706163</td>\n",
       "      <td>0.560584</td>\n",
       "      <td>0.0</td>\n",
       "    </tr>\n",
       "  </tbody>\n",
       "</table>\n",
       "</div>"
      ],
      "text/plain": [
       "            total   backHbond  sideHbond  energy_VdW    electro  energy_SolvP  \\\n",
       "2CL7_X  77.942203 -111.291695 -26.953664 -190.881336 -15.136992    281.258345   \n",
       "2CL6_X  69.754977 -113.582003 -32.399681 -192.621118 -12.502671    274.639621   \n",
       "2CLC_A  86.210158 -109.239725 -30.487225 -191.235770 -15.179351    283.635434   \n",
       "2CE2_A  62.999159 -111.746914 -33.116126 -198.368332 -14.268230    284.752122   \n",
       "2EVW_X  93.708451 -111.043142 -29.490715 -192.170180 -12.150174    279.613594   \n",
       "\n",
       "        energy_SolvH  energy_vdwclash   entrop_sc   entrop_mc  sloop_entropy  \\\n",
       "2CL7_X   -247.234361        36.111585  103.132881  252.515900            0.0   \n",
       "2CL6_X   -249.600677        38.270879  104.769843  249.038238            0.0   \n",
       "2CLC_A   -247.338622        42.898409  102.940965  253.542080            0.0   \n",
       "2CE2_A   -258.394913        34.122245  105.665929  250.639054            0.0   \n",
       "2EVW_X   -247.666973        43.598583  103.598072  252.934674            0.0   \n",
       "\n",
       "        mloop_entropy  cis_bond  energy_torsion  backbone_vdwclash  \\\n",
       "2CL7_X            0.0       0.0        6.527641         112.082936   \n",
       "2CL6_X            0.0       0.0        7.913739         109.842862   \n",
       "2CLC_A            0.0       0.0        7.520797         110.413926   \n",
       "2CE2_A            0.0       0.0        7.118098         114.654297   \n",
       "2EVW_X            0.0       0.0       13.366054         113.077846   \n",
       "\n",
       "        energy_dipole  water  disulfide  energy_kon   partcov  \\\n",
       "2CL7_X      -3.077530    0.0        0.0         0.0 -7.611298   \n",
       "2CL6_X      -1.504576    0.0        0.0         0.0 -3.418036   \n",
       "2CLC_A      -3.125417    0.0        0.0         0.0 -8.298718   \n",
       "2CE2_A      -1.258187    0.0        0.0         0.0 -2.302567   \n",
       "2EVW_X      -0.735763    0.0        0.0         0.0 -6.706163   \n",
       "\n",
       "        energyIonisation  entr_complex  \n",
       "2CL7_X          0.582727           0.0  \n",
       "2CL6_X          0.751419           0.0  \n",
       "2CLC_A          0.577303           0.0  \n",
       "2CE2_A          0.156981           0.0  \n",
       "2EVW_X          0.560584           0.0  "
      ]
     },
     "execution_count": 5,
     "metadata": {},
     "output_type": "execute_result"
    }
   ],
   "source": [
    "t.getTotalEnergy()"
   ]
  },
  {
   "cell_type": "markdown",
   "id": "waiting-botswana",
   "metadata": {},
   "source": [
    "Now, let's repair all the structures within the ensemble and save it to a file. "
   ]
  },
  {
   "cell_type": "code",
   "execution_count": 6,
   "id": "ideal-vatican",
   "metadata": {},
   "outputs": [
    {
     "name": "stdout",
     "output_type": "stream",
     "text": [
      "Repairing structures along ensemble...\n",
      "  0%|          | 0/5 [00:00<?, ?it/s]"
     ]
    },
    {
     "name": "stderr",
     "output_type": "stream",
     "text": [
      "/home/lradusky/.local/lib/python3.8/site-packages/ipykernel/ipkernel.py:283: DeprecationWarning: `should_run_async` will not call `transform_cell` automatically in the future. Please pass the result to `transformed_cell` argument and any exception that happen during thetransform in `preprocessing_exc_tuple` in IPython 7.17 and above.\n",
      "  and should_run_async(code)\n"
     ]
    },
    {
     "name": "stdout",
     "output_type": "stream",
     "text": [
      "100%|██████████| 5/5 [14:31<00:00, 174.30s/it]\n",
      "Structures repaired.\n"
     ]
    }
   ],
   "source": [
    "t.repair()\n",
    "t.saveToPDB(workingPath+\"repaired.pdb\")"
   ]
  },
  {
   "cell_type": "markdown",
   "id": "homeless-peoples",
   "metadata": {},
   "source": [
    "And we can check that the energy of the structures was minimized."
   ]
  },
  {
   "cell_type": "code",
   "execution_count": 7,
   "id": "vertical-prince",
   "metadata": {},
   "outputs": [
    {
     "name": "stdout",
     "output_type": "stream",
     "text": [
      "Computing total energy for ensemble...\n",
      "100%|██████████| 5/5 [00:02<00:00,  2.37it/s]\n",
      "Energy computed.\n"
     ]
    },
    {
     "data": {
      "text/html": [
       "<div>\n",
       "<style scoped>\n",
       "    .dataframe tbody tr th:only-of-type {\n",
       "        vertical-align: middle;\n",
       "    }\n",
       "\n",
       "    .dataframe tbody tr th {\n",
       "        vertical-align: top;\n",
       "    }\n",
       "\n",
       "    .dataframe thead th {\n",
       "        text-align: right;\n",
       "    }\n",
       "</style>\n",
       "<table border=\"1\" class=\"dataframe\">\n",
       "  <thead>\n",
       "    <tr style=\"text-align: right;\">\n",
       "      <th></th>\n",
       "      <th>total</th>\n",
       "      <th>backHbond</th>\n",
       "      <th>sideHbond</th>\n",
       "      <th>energy_VdW</th>\n",
       "      <th>electro</th>\n",
       "      <th>energy_SolvP</th>\n",
       "      <th>energy_SolvH</th>\n",
       "      <th>energy_vdwclash</th>\n",
       "      <th>entrop_sc</th>\n",
       "      <th>entrop_mc</th>\n",
       "      <th>sloop_entropy</th>\n",
       "      <th>mloop_entropy</th>\n",
       "      <th>cis_bond</th>\n",
       "      <th>energy_torsion</th>\n",
       "      <th>backbone_vdwclash</th>\n",
       "      <th>energy_dipole</th>\n",
       "      <th>water</th>\n",
       "      <th>disulfide</th>\n",
       "      <th>energy_kon</th>\n",
       "      <th>partcov</th>\n",
       "      <th>energyIonisation</th>\n",
       "      <th>entr_complex</th>\n",
       "    </tr>\n",
       "  </thead>\n",
       "  <tbody>\n",
       "    <tr>\n",
       "      <th>2CL7_X</th>\n",
       "      <td>4.504217</td>\n",
       "      <td>-123.348354</td>\n",
       "      <td>-50.344831</td>\n",
       "      <td>-190.315013</td>\n",
       "      <td>-16.605395</td>\n",
       "      <td>270.951108</td>\n",
       "      <td>-249.743412</td>\n",
       "      <td>12.687093</td>\n",
       "      <td>109.487850</td>\n",
       "      <td>249.322382</td>\n",
       "      <td>0.0</td>\n",
       "      <td>0.0</td>\n",
       "      <td>0.0</td>\n",
       "      <td>3.357786</td>\n",
       "      <td>111.370863</td>\n",
       "      <td>-3.517483</td>\n",
       "      <td>0.0</td>\n",
       "      <td>0.0</td>\n",
       "      <td>0.0</td>\n",
       "      <td>-8.053946</td>\n",
       "      <td>0.626432</td>\n",
       "      <td>0.0</td>\n",
       "    </tr>\n",
       "    <tr>\n",
       "      <th>2CL6_X</th>\n",
       "      <td>-12.732145</td>\n",
       "      <td>-124.332863</td>\n",
       "      <td>-64.641730</td>\n",
       "      <td>-195.849648</td>\n",
       "      <td>-14.660477</td>\n",
       "      <td>270.586603</td>\n",
       "      <td>-256.882988</td>\n",
       "      <td>8.138985</td>\n",
       "      <td>117.076586</td>\n",
       "      <td>247.960306</td>\n",
       "      <td>0.0</td>\n",
       "      <td>0.0</td>\n",
       "      <td>0.0</td>\n",
       "      <td>4.276946</td>\n",
       "      <td>110.024295</td>\n",
       "      <td>-1.816568</td>\n",
       "      <td>0.0</td>\n",
       "      <td>0.0</td>\n",
       "      <td>0.0</td>\n",
       "      <td>-3.348570</td>\n",
       "      <td>0.761272</td>\n",
       "      <td>0.0</td>\n",
       "    </tr>\n",
       "    <tr>\n",
       "      <th>2CLC_A</th>\n",
       "      <td>3.660839</td>\n",
       "      <td>-121.160984</td>\n",
       "      <td>-55.376229</td>\n",
       "      <td>-191.882464</td>\n",
       "      <td>-14.829451</td>\n",
       "      <td>272.612757</td>\n",
       "      <td>-251.905835</td>\n",
       "      <td>13.767865</td>\n",
       "      <td>112.639122</td>\n",
       "      <td>248.610332</td>\n",
       "      <td>0.0</td>\n",
       "      <td>0.0</td>\n",
       "      <td>0.0</td>\n",
       "      <td>3.068737</td>\n",
       "      <td>111.090189</td>\n",
       "      <td>-4.331412</td>\n",
       "      <td>0.0</td>\n",
       "      <td>0.0</td>\n",
       "      <td>0.0</td>\n",
       "      <td>-8.515588</td>\n",
       "      <td>0.963989</td>\n",
       "      <td>0.0</td>\n",
       "    </tr>\n",
       "    <tr>\n",
       "      <th>2CE2_A</th>\n",
       "      <td>-5.463645</td>\n",
       "      <td>-122.258972</td>\n",
       "      <td>-53.356968</td>\n",
       "      <td>-196.836139</td>\n",
       "      <td>-14.750115</td>\n",
       "      <td>270.625782</td>\n",
       "      <td>-259.708096</td>\n",
       "      <td>10.994861</td>\n",
       "      <td>108.610829</td>\n",
       "      <td>251.258035</td>\n",
       "      <td>0.0</td>\n",
       "      <td>0.0</td>\n",
       "      <td>0.0</td>\n",
       "      <td>3.947532</td>\n",
       "      <td>114.266943</td>\n",
       "      <td>-2.082534</td>\n",
       "      <td>0.0</td>\n",
       "      <td>0.0</td>\n",
       "      <td>0.0</td>\n",
       "      <td>-2.302567</td>\n",
       "      <td>0.394709</td>\n",
       "      <td>0.0</td>\n",
       "    </tr>\n",
       "    <tr>\n",
       "      <th>2EVW_X</th>\n",
       "      <td>-4.166644</td>\n",
       "      <td>-125.208867</td>\n",
       "      <td>-65.926981</td>\n",
       "      <td>-190.139632</td>\n",
       "      <td>-13.149581</td>\n",
       "      <td>266.570810</td>\n",
       "      <td>-247.851565</td>\n",
       "      <td>10.480025</td>\n",
       "      <td>113.523592</td>\n",
       "      <td>252.835014</td>\n",
       "      <td>0.0</td>\n",
       "      <td>0.0</td>\n",
       "      <td>0.0</td>\n",
       "      <td>3.440036</td>\n",
       "      <td>113.182427</td>\n",
       "      <td>-3.071856</td>\n",
       "      <td>0.0</td>\n",
       "      <td>0.0</td>\n",
       "      <td>0.0</td>\n",
       "      <td>-6.414828</td>\n",
       "      <td>0.747188</td>\n",
       "      <td>0.0</td>\n",
       "    </tr>\n",
       "  </tbody>\n",
       "</table>\n",
       "</div>"
      ],
      "text/plain": [
       "            total   backHbond  sideHbond  energy_VdW    electro  energy_SolvP  \\\n",
       "2CL7_X   4.504217 -123.348354 -50.344831 -190.315013 -16.605395    270.951108   \n",
       "2CL6_X -12.732145 -124.332863 -64.641730 -195.849648 -14.660477    270.586603   \n",
       "2CLC_A   3.660839 -121.160984 -55.376229 -191.882464 -14.829451    272.612757   \n",
       "2CE2_A  -5.463645 -122.258972 -53.356968 -196.836139 -14.750115    270.625782   \n",
       "2EVW_X  -4.166644 -125.208867 -65.926981 -190.139632 -13.149581    266.570810   \n",
       "\n",
       "        energy_SolvH  energy_vdwclash   entrop_sc   entrop_mc  sloop_entropy  \\\n",
       "2CL7_X   -249.743412        12.687093  109.487850  249.322382            0.0   \n",
       "2CL6_X   -256.882988         8.138985  117.076586  247.960306            0.0   \n",
       "2CLC_A   -251.905835        13.767865  112.639122  248.610332            0.0   \n",
       "2CE2_A   -259.708096        10.994861  108.610829  251.258035            0.0   \n",
       "2EVW_X   -247.851565        10.480025  113.523592  252.835014            0.0   \n",
       "\n",
       "        mloop_entropy  cis_bond  energy_torsion  backbone_vdwclash  \\\n",
       "2CL7_X            0.0       0.0        3.357786         111.370863   \n",
       "2CL6_X            0.0       0.0        4.276946         110.024295   \n",
       "2CLC_A            0.0       0.0        3.068737         111.090189   \n",
       "2CE2_A            0.0       0.0        3.947532         114.266943   \n",
       "2EVW_X            0.0       0.0        3.440036         113.182427   \n",
       "\n",
       "        energy_dipole  water  disulfide  energy_kon   partcov  \\\n",
       "2CL7_X      -3.517483    0.0        0.0         0.0 -8.053946   \n",
       "2CL6_X      -1.816568    0.0        0.0         0.0 -3.348570   \n",
       "2CLC_A      -4.331412    0.0        0.0         0.0 -8.515588   \n",
       "2CE2_A      -2.082534    0.0        0.0         0.0 -2.302567   \n",
       "2EVW_X      -3.071856    0.0        0.0         0.0 -6.414828   \n",
       "\n",
       "        energyIonisation  entr_complex  \n",
       "2CL7_X          0.626432           0.0  \n",
       "2CL6_X          0.761272           0.0  \n",
       "2CLC_A          0.963989           0.0  \n",
       "2CE2_A          0.394709           0.0  \n",
       "2EVW_X          0.747188           0.0  "
      ]
     },
     "execution_count": 7,
     "metadata": {},
     "output_type": "execute_result"
    }
   ],
   "source": [
    "t.getTotalEnergy()"
   ]
  },
  {
   "cell_type": "code",
   "execution_count": 8,
   "id": "smoking-vitamin",
   "metadata": {},
   "outputs": [
    {
     "name": "stdout",
     "output_type": "stream",
     "text": [
      "Computing residue energy for ensemble...\n",
      " 20%|██        | 1/5 [00:00<00:01,  2.32it/s]"
     ]
    },
    {
     "name": "stderr",
     "output_type": "stream",
     "text": [
      "/home/lradusky/.local/lib/python3.8/site-packages/ipykernel/ipkernel.py:283: DeprecationWarning: `should_run_async` will not call `transform_cell` automatically in the future. Please pass the result to `transformed_cell` argument and any exception that happen during thetransform in `preprocessing_exc_tuple` in IPython 7.17 and above.\n",
      "  and should_run_async(code)\n"
     ]
    },
    {
     "name": "stdout",
     "output_type": "stream",
     "text": [
      "100%|██████████| 5/5 [00:02<00:00,  2.41it/s]\n",
      "Energy computed.\n"
     ]
    },
    {
     "data": {
      "text/plain": [
       "<matplotlib.axes._subplots.AxesSubplot at 0x7fb6cc7a1910>"
      ]
     },
     "execution_count": 8,
     "metadata": {},
     "output_type": "execute_result"
    },
    {
     "data": {
      "image/png": "[encoded data removed]",
      "text/plain": [
       "<Figure size 720x2520 with 2 Axes>"
      ]
     },
     "metadata": {
      "needs_background": "light"
     },
     "output_type": "display_data"
    }
   ],
   "source": [
    "plt.figure(figsize=(10,35))\n",
    "sns.heatmap(t.getResiduesEnergy())"
   ]
  },
  {
   "cell_type": "code",
   "execution_count": null,
   "id": "periodic-botswana",
   "metadata": {},
   "outputs": [],
   "source": []
  },
  {
   "cell_type": "code",
   "execution_count": null,
   "id": "narrow-receipt",
   "metadata": {},
   "outputs": [],
   "source": []
  },
  {
   "cell_type": "code",
   "execution_count": null,
   "id": "tender-subject",
   "metadata": {},
   "outputs": [],
   "source": []
  },
  {
   "cell_type": "code",
   "execution_count": null,
   "id": "material-memory",
   "metadata": {},
   "outputs": [],
   "source": []
  }
 ],
 "metadata": {
  "kernelspec": {
   "display_name": "Python 3",
   "language": "python",
   "name": "python3"
  },
  "language_info": {
   "codemirror_mode": {
    "name": "ipython",
    "version": 3
   },
   "file_extension": ".py",
   "mimetype": "text/x-python",
   "name": "python",
   "nbconvert_exporter": "python",
   "pygments_lexer": "ipython3",
   "version": "3.8.3"
  }
 },
 "nbformat": 4,
 "nbformat_minor": 5
}
