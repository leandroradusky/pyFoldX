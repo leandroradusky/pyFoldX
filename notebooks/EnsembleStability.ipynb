{
 "cells": [
  {
   "cell_type": "markdown",
   "metadata": {},
   "source": [
    "# Working with Ensembles of structures\n",
    "\n",
    "The ensembles of structures allow for the simultaneous analysis of structures. Actually there is support for the following ensembles:\n",
    "\n",
    "- Ensemble: a blank Ensemble where Structure object can be appended.\n",
    "- UniprotEnsemble: given a Uniprot code, all the Structures for this protein will be automatically load in the Ensemble.\n",
    "- PdbFlexEnsemble: a alpha-carbon trajectory downloaded from [pdbFlex](https://pdbflex.org/)\n",
    "\n",
    "All ensembles will try to align and renumber structures to mantain consistency."
   ]
  },
  {
   "cell_type": "code",
   "execution_count": 1,
   "metadata": {},
   "outputs": [],
   "source": [
    "from pyfoldx.structure import Ensemble, UniprotEnsemble\n",
    "from pyfoldx.structure import Structure"
   ]
  },
  {
   "cell_type": "code",
   "execution_count": 3,
   "metadata": {},
   "outputs": [],
   "source": [
    "#Some other imports, to work with the data and to plot\n",
    "import pandas as pd\n",
    "import seaborn as sns\n",
    "import matplotlib.pyplot as plt\n",
    "import warnings\n",
    "\n",
    "# We want to print full tables\n",
    "pd.set_option(\"display.max_rows\", 1000, \"display.max_columns\", 1000)\n",
    "# We ignore warnings\n",
    "warnings.filterwarnings('ignore')\n",
    "warnings.simplefilter('ignore')\n"
   ]
  },
  {
   "cell_type": "markdown",
   "metadata": {},
   "source": [
    "# Creating an Uniprot Ensemble"
   ]
  },
  {
   "cell_type": "code",
   "execution_count": 4,
   "metadata": {
    "tags": []
   },
   "outputs": [
    {
     "output_type": "stream",
     "name": "stdout",
     "text": [
      "Master Structure is 2QUZ:\n",
      "Aligning to master (total: 39)\n",
      "100%|██████████| 38/38 [00:35<00:00,  1.06it/s]\n",
      "Ensemble built\n",
      "Total structures aligned: 31\n"
     ]
    }
   ],
   "source": [
    "# We will create an ensemple of all the crystals for Uniprot P01112(GTPAse HRAS) with good resolution (<1.6 Armstrong)\n",
    "ensemblePath = \"/home/lradusky/Downloads/P01112/\"\n",
    "t = UniprotEnsemble(\"P01112\", ensemblePath, just_xray=True, max_resolution=1.6)"
   ]
  },
  {
   "cell_type": "markdown",
   "metadata": {},
   "source": [
    "Note that working with a big set of structures can be memory consuming.\n",
    "\n",
    "Below, we show how an Ensemble can be created with an Ensemble file that was saved before (as done above)"
   ]
  },
  {
   "cell_type": "code",
   "execution_count": 5,
   "metadata": {},
   "outputs": [
    {
     "output_type": "stream",
     "name": "stderr",
     "text": [
      "/home/lradusky/.local/lib/python3.8/site-packages/ipykernel/ipkernel.py:283: DeprecationWarning: `should_run_async` will not call `transform_cell` automatically in the future. Please pass the result to `transformed_cell` argument and any exception that happen during thetransform in `preprocessing_exc_tuple` in IPython 7.17 and above.\n  and should_run_async(code)\n"
     ]
    }
   ],
   "source": [
    "t.toPdbFile(ensemblePath+\"ensemble.pdb\")"
   ]
  },
  {
   "cell_type": "code",
   "execution_count": 6,
   "metadata": {},
   "outputs": [],
   "source": [
    "tFile = \"ensemble.pdb\"\n",
    "\n",
    "# We overwrite the t object with a basic Ensemble object loaded from the file saved above.\n",
    "t = Ensemble(\"P01112\", ensemblePath, ensemblePath+tFile)"
   ]
  },
  {
   "cell_type": "code",
   "execution_count": 7,
   "metadata": {},
   "outputs": [
    {
     "output_type": "execute_result",
     "data": {
      "text/plain": [
       "31"
      ]
     },
     "metadata": {},
     "execution_count": 7
    }
   ],
   "source": [
    "len(t.frames)"
   ]
  },
  {
   "cell_type": "markdown",
   "metadata": {},
   "source": [
    "# Computing energy on ensembles\n",
    "\n",
    "To compute the $\\Delta G$ of each one of the structures within the ensemble, we just have to call the *getTotalEnergy* function."
   ]
  },
  {
   "cell_type": "code",
   "execution_count": 8,
   "metadata": {},
   "outputs": [
    {
     "output_type": "stream",
     "name": "stdout",
     "text": [
      "Computing total energy for ensemble...\n",
      "  0%|          | 0/31 [00:00<?, ?it/s]FOLDX_LOCATION No\n",
      "FoldX executable not found, please set the variable FOLDX_LOCATION\n",
      "  0%|          | 0/31 [00:00<?, ?it/s]\n"
     ]
    },
    {
     "output_type": "error",
     "ename": "SystemExit",
     "evalue": "0",
     "traceback": [
      "An exception has occurred, use %tb to see the full traceback.\n",
      "\u001b[0;31mSystemExit\u001b[0m\u001b[0;31m:\u001b[0m 0\n"
     ]
    }
   ],
   "source": [
    "totalEnergyDf = t.getTotalEnergy()"
   ]
  },
  {
   "cell_type": "markdown",
   "metadata": {},
   "source": [
    "It will return a Pandas DataFrame with the total energy for each structure and also al the computed energy terms."
   ]
  },
  {
   "cell_type": "code",
   "execution_count": null,
   "metadata": {},
   "outputs": [],
   "source": [
    "totalEnergyDf "
   ]
  },
  {
   "cell_type": "markdown",
   "metadata": {},
   "source": [
    "The same is valid for the energy at residue level. In this case the columns will be each one of the structures within the ensemble, and the rows the residues. If a position is different in sequence in any of the structures will ocuppy a different row. Also, positions not resolved in some of the crystals will have an *np.Nan* value in the correspondent cell."
   ]
  },
  {
   "cell_type": "code",
   "execution_count": null,
   "metadata": {},
   "outputs": [],
   "source": [
    "residueEnergy = t.getResiduesEnergy()"
   ]
  },
  {
   "cell_type": "code",
   "execution_count": null,
   "metadata": {},
   "outputs": [],
   "source": [
    "residueEnergy"
   ]
  },
  {
   "cell_type": "code",
   "execution_count": null,
   "metadata": {},
   "outputs": [],
   "source": []
  },
  {
   "cell_type": "code",
   "execution_count": null,
   "metadata": {},
   "outputs": [],
   "source": []
  }
 ],
 "metadata": {
  "kernelspec": {
   "display_name": "Python 3",
   "language": "python",
   "name": "python3"
  },
  "language_info": {
   "codemirror_mode": {
    "name": "ipython",
    "version": 3
   },
   "file_extension": ".py",
   "mimetype": "text/x-python",
   "name": "python",
   "nbconvert_exporter": "python",
   "pygments_lexer": "ipython3",
   "version": "3.8.5"
  }
 },
 "nbformat": 4,
 "nbformat_minor": 4
}