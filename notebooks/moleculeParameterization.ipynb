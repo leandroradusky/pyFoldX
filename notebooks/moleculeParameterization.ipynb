{
 "cells": [
  {
   "cell_type": "markdown",
   "id": "incident-feeding",
   "metadata": {},
   "source": [
    "# Parameterizing molecules on the fly\n",
    "\n",
    "Since the version [5.0, FoldX](https://academic.oup.com/bioinformatics/article/35/20/4168/5381539) allows for the user parameterization of molecules previously not recognized by the software. \n",
    "\n",
    "For a comprehensive list of molecules recognized by FoldX follow [this link](http://foldxsuite.crg.eu/allowed-residues)."
   ]
  },
  {
   "cell_type": "code",
   "execution_count": 1,
   "id": "periodic-median",
   "metadata": {},
   "outputs": [],
   "source": [
    "# This simulates the installation the user will just import pyFoldx.Structure\n",
    "import sys\n",
    "sys.path.append(\"/home/lradusky/Dropbox/workspacesbg/pyFoldX\")"
   ]
  },
  {
   "cell_type": "code",
   "execution_count": 2,
   "id": "automatic-renaissance",
   "metadata": {},
   "outputs": [],
   "source": [
    "import pyFoldXpp\n",
    "from src.handlers.FileHandler import FileHandler\n",
    "from src.structure.Structure import Structure\n",
    "from src.pyFoldX.moleculeParameterization import parameterize, PdbMolecule, JSonMolecule"
   ]
  },
  {
   "cell_type": "markdown",
   "id": "primary-local",
   "metadata": {},
   "source": [
    "In this tutorial, we are going to use the [PDB 2B3B](https://www.rcsb.org/structure/2B3B), \"Thermus thermophilus Glucose/Galactose Binding Protein With Bound Glucose\". This structure possess a glucose ligand (code=\"GLC\") that is not originally recognized by FoldX.\n",
    "\n",
    "## **Step 1**: Extract the molecule coordinates from the PDB\n",
    "\n",
    "We are going to load the structure and keep the lines of the molecule we want to parameterize."
   ]
  },
  {
   "cell_type": "code",
   "execution_count": 3,
   "id": "necessary-florist",
   "metadata": {},
   "outputs": [],
   "source": [
    "st = Structure(\"2B3B\")"
   ]
  },
  {
   "cell_type": "markdown",
   "id": "fleet-palace",
   "metadata": {},
   "source": [
    "The *Structure* class has a *data* dictionary organized by chains, residues and atoms."
   ]
  },
  {
   "cell_type": "code",
   "execution_count": 4,
   "id": "convertible-classic",
   "metadata": {},
   "outputs": [
    {
     "name": "stdout",
     "output_type": "stream",
     "text": [
      "Residue(GLC,2605,A,True)\n",
      "Residue(GLC,2606,B,True)\n",
      "Residue(GLC,2609,E,True)\n",
      "Residue(GLC,2610,F,True)\n"
     ]
    }
   ],
   "source": [
    "# Identifying GLC Residues\n",
    "for chain in st.data.keys():\n",
    "    for residue in st.data[chain]:\n",
    "        if st.data[chain][residue].code == \"GLC\":\n",
    "            print( st.data[chain][residue] )"
   ]
  },
  {
   "cell_type": "markdown",
   "id": "invalid-newfoundland",
   "metadata": {},
   "source": [
    "As we can observe, we have four GLC residues, one for each chain. Since each chain represents for this structure one biological assembly we are going to keep just the chain A for further analysis."
   ]
  },
  {
   "cell_type": "code",
   "execution_count": 5,
   "id": "chief-neighbor",
   "metadata": {},
   "outputs": [],
   "source": [
    "# We overwrite the structure object with its chain A\n",
    "st_A = Structure( \"2B3B_A\", fromString= st.toPdb(chain=\"A\") )"
   ]
  },
  {
   "cell_type": "code",
   "execution_count": 6,
   "id": "bridal-geneva",
   "metadata": {},
   "outputs": [
    {
     "name": "stdout",
     "output_type": "stream",
     "text": [
      "Residue(GLC,2605,A,True)\n"
     ]
    }
   ],
   "source": [
    "# Identifying GLC Residues\n",
    "for chain in st_A.data.keys():\n",
    "    for residue in st_A.data[chain]:\n",
    "        if st_A.data[chain][residue].code == \"GLC\":\n",
    "            print( st_A.data[chain][residue] )"
   ]
  },
  {
   "cell_type": "markdown",
   "id": "dramatic-westminster",
   "metadata": {},
   "source": [
    "The lines containing the PDB coordinates of this molecule will be one of our inputs."
   ]
  },
  {
   "cell_type": "code",
   "execution_count": 7,
   "id": "floral-world",
   "metadata": {},
   "outputs": [],
   "source": [
    "glcLines = st_A.data[\"A\"][2605].getInPDBFormat().split(\"\\n\")"
   ]
  },
  {
   "cell_type": "code",
   "execution_count": 8,
   "id": "posted-roots",
   "metadata": {},
   "outputs": [
    {
     "data": {
      "text/plain": [
       "['HETATM18215  C1  GLC A2605      10.283  65.776  23.204  1.00 20.33           C  ',\n",
       " 'HETATM18216  C2  GLC A2605       8.995  64.925  22.926  1.00 18.08           C  ',\n",
       " 'HETATM18217  C3  GLC A2605       8.531  64.856  21.464  1.00 16.36           C  ',\n",
       " 'HETATM18218  C4  GLC A2605       8.922  66.123  20.698  1.00 15.64           C  ',\n",
       " 'HETATM18219  C5  GLC A2605      10.438  66.374  20.803  1.00 15.84           C  ',\n",
       " 'HETATM18220  C6  GLC A2605      10.944  67.649  20.109  1.00 14.64           C  ',\n",
       " 'HETATM18221  O1  GLC A2605      11.249  65.183  23.989  1.00 21.33           O  ',\n",
       " 'HETATM18222  O2  GLC A2605       8.941  63.665  23.616  1.00 17.59           O  ',\n",
       " 'HETATM18223  O3  GLC A2605       7.116  64.746  21.457  1.00 17.28           O  ',\n",
       " 'HETATM18224  O4  GLC A2605       8.565  65.995  19.332  1.00 15.51           O  ',\n",
       " 'HETATM18225  O5  GLC A2605      10.908  66.472  22.137  1.00 14.15           O  ',\n",
       " 'HETATM18226  O6  GLC A2605      10.341  68.786  20.652  1.00 14.44           O  ']"
      ]
     },
     "execution_count": 8,
     "metadata": {},
     "output_type": "execute_result"
    }
   ],
   "source": [
    "glcLines"
   ]
  },
  {
   "cell_type": "markdown",
   "id": "committed-german",
   "metadata": {},
   "source": [
    "## **Step 2**: Mapping the atoms to parametrized atoms\n",
    "\n",
    "**TODO** Rename the atoms to its rational name, instead of specifying the molecule and atom to steel from.\n",
    "\n",
    "We are going to create a dictionary specifying which type of atom is each atom in the GLC molecule.\n"
   ]
  },
  {
   "cell_type": "code",
   "execution_count": 9,
   "id": "flush-buying",
   "metadata": {},
   "outputs": [
    {
     "data": {
      "text/plain": [
       "[Atom(C1,18215,10.283,65.776,23.204,Residue(GLC,2605,A,True),20.33),\n",
       " Atom(C2,18216,8.995,64.925,22.926,Residue(GLC,2605,A,True),18.08),\n",
       " Atom(C3,18217,8.531,64.856,21.464,Residue(GLC,2605,A,True),16.36),\n",
       " Atom(C4,18218,8.922,66.123,20.698,Residue(GLC,2605,A,True),15.64),\n",
       " Atom(C5,18219,10.438,66.374,20.803,Residue(GLC,2605,A,True),15.84),\n",
       " Atom(C6,18220,10.944,67.649,20.109,Residue(GLC,2605,A,True),14.64),\n",
       " Atom(O1,18221,11.249,65.183,23.989,Residue(GLC,2605,A,True),21.33),\n",
       " Atom(O2,18222,8.941,63.665,23.616,Residue(GLC,2605,A,True),17.59),\n",
       " Atom(O3,18223,7.116,64.746,21.457,Residue(GLC,2605,A,True),17.28),\n",
       " Atom(O4,18224,8.565,65.995,19.332,Residue(GLC,2605,A,True),15.51),\n",
       " Atom(O5,18225,10.908,66.472,22.137,Residue(GLC,2605,A,True),14.15),\n",
       " Atom(O6,18226,10.341,68.786,20.652,Residue(GLC,2605,A,True),14.44)]"
      ]
     },
     "execution_count": 9,
     "metadata": {},
     "output_type": "execute_result"
    }
   ],
   "source": [
    "st_A.data[\"A\"][2605].atoms"
   ]
  },
  {
   "cell_type": "markdown",
   "id": "pharmaceutical-stanford",
   "metadata": {},
   "source": [
    "For each atom, we specify its template"
   ]
  },
  {
   "cell_type": "code",
   "execution_count": 10,
   "id": "twelve-tuition",
   "metadata": {},
   "outputs": [],
   "source": [
    "atomMappingsDict = {\"C1\":(\"C1*\",\"A\"),\n",
    "                    \"C2\":(\"C3*\",\"A\"),\n",
    "                    \"O1\":(\"O3*\",\"T\"),\n",
    "                    \"O2\":(\"O3*\",\"A\"),\n",
    "                    \"C3\":(\"O3*\",\"G\"),\n",
    "                    \"O3\":(\"O3*\",\"G\"),\n",
    "                    \"C4\":(\"C3*\",\"C\"),\n",
    "                    \"O4\":(\"O3*\",\"C\"),\n",
    "                    \"C5\":(\"C4*\",\"A\"),\n",
    "                    \"C6\":(\"C5*\",\"A\"),\n",
    "                    \"O5\":(\"O4*\",\"A\"),\n",
    "                    \"O6\":(\"OG\",\"SER\")}"
   ]
  },
  {
   "cell_type": "markdown",
   "id": "forbidden-revolution",
   "metadata": {},
   "source": [
    "## **Step 3**: Creating the JSON molecule parameter file\n",
    "\n",
    "With the **PDBMolecule** class, instanciated with the lines of the the molecule, and the mappings, we can create a **JSonMolecule** object with the parameters ready to be used by FoldX."
   ]
  },
  {
   "cell_type": "code",
   "execution_count": 11,
   "id": "russian-cleaning",
   "metadata": {},
   "outputs": [
    {
     "name": "stdout",
     "output_type": "stream",
     "text": [
      "Mappings loaded:\n",
      "Atom C1 mapped to atom C1* of molecule A\n",
      "Atom C2 mapped to atom C3* of molecule A\n",
      "Atom O1 mapped to atom O3* of molecule T\n",
      "Atom O2 mapped to atom O3* of molecule A\n",
      "Atom C3 mapped to atom O3* of molecule G\n",
      "Atom O3 mapped to atom O3* of molecule G\n",
      "Atom C4 mapped to atom C3* of molecule C\n",
      "Atom O4 mapped to atom O3* of molecule C\n",
      "Atom C5 mapped to atom C4* of molecule A\n",
      "Atom C6 mapped to atom C5* of molecule A\n",
      "Atom O5 mapped to atom O4* of molecule A\n",
      "Atom O6 mapped to atom OG of molecule SER\n"
     ]
    }
   ],
   "source": [
    "newMol = parameterize( PdbMolecule(fromString=glcLines), atomMappingsDict)"
   ]
  },
  {
   "cell_type": "code",
   "execution_count": 12,
   "id": "stock-reverse",
   "metadata": {},
   "outputs": [
    {
     "data": {
      "text/plain": [
       "src.pyFoldX.moleculeParameterization.JSonMolecule"
      ]
     },
     "execution_count": 12,
     "metadata": {},
     "output_type": "execute_result"
    }
   ],
   "source": [
    "type(newMol)"
   ]
  },
  {
   "cell_type": "markdown",
   "id": "upper-temperature",
   "metadata": {},
   "source": [
    "We save the parameters file in the molecules folder, ready to be read by FoldX."
   ]
  },
  {
   "cell_type": "code",
   "execution_count": 13,
   "id": "manufactured-haiti",
   "metadata": {},
   "outputs": [
    {
     "data": {
      "text/plain": [
       "True"
      ]
     },
     "execution_count": 13,
     "metadata": {},
     "output_type": "execute_result"
    }
   ],
   "source": [
    "FileHandler.writeLine(\"molecules/GLC.json\", newMol.toJson())"
   ]
  },
  {
   "cell_type": "markdown",
   "id": "specialized-respondent",
   "metadata": {},
   "source": [
    "## Testing the Results\n",
    "\n",
    "To test the results, we are going to make a copy of the structure without the GLC molecule, and mutate a residue contacting GLC."
   ]
  },
  {
   "cell_type": "code",
   "execution_count": 14,
   "id": "incorrect-jersey",
   "metadata": {},
   "outputs": [],
   "source": [
    "linesWithoutGLC = [x for x in st.toPdb(chain=\"A\") if x.find(\"GLC\") == -1]\n",
    "\n",
    "st_A_no_GLC = Structure(\"2B3B_A_no_GLC\", fromString=linesWithoutGLC)"
   ]
  },
  {
   "cell_type": "code",
   "execution_count": 15,
   "id": "increasing-output",
   "metadata": {},
   "outputs": [
    {
     "name": "stdout",
     "output_type": "stream",
     "text": [
      "Computing mutation(s) DA278H; on target structure...\n",
      "Energy computed.\n",
      "Computing mutation(s) DA278H; on target structure...\n",
      "Energy computed.\n"
     ]
    }
   ],
   "source": [
    "energyDf_GLC, ensMut_GLC, ensWT_GLC = st_A.mutate(\"DA278H;\", generateMutationsEnsemble=True)\n",
    "energyDf_no_GLC, ensMut_no_GLC, ensWT_no_GLC = st_A_no_GLC.mutate(\"DA278H;\", generateMutationsEnsemble=True)\n"
   ]
  },
  {
   "cell_type": "markdown",
   "id": "wanted-commercial",
   "metadata": {},
   "source": [
    "The mutation provokes a VdW Clash that makes the mutational $\\Delta \\Delta G$ to be very high."
   ]
  },
  {
   "cell_type": "code",
   "execution_count": 16,
   "id": "progressive-depression",
   "metadata": {},
   "outputs": [
    {
     "data": {
      "text/html": [
       "<div>\n",
       "<style scoped>\n",
       "    .dataframe tbody tr th:only-of-type {\n",
       "        vertical-align: middle;\n",
       "    }\n",
       "\n",
       "    .dataframe tbody tr th {\n",
       "        vertical-align: top;\n",
       "    }\n",
       "\n",
       "    .dataframe thead th {\n",
       "        text-align: right;\n",
       "    }\n",
       "</style>\n",
       "<table border=\"1\" class=\"dataframe\">\n",
       "  <thead>\n",
       "    <tr style=\"text-align: right;\">\n",
       "      <th></th>\n",
       "      <th>total</th>\n",
       "      <th>backHbond</th>\n",
       "      <th>sideHbond</th>\n",
       "      <th>energy_VdW</th>\n",
       "      <th>electro</th>\n",
       "      <th>energy_SolvP</th>\n",
       "      <th>energy_SolvH</th>\n",
       "      <th>energy_vdwclash</th>\n",
       "      <th>entrop_sc</th>\n",
       "      <th>entrop_mc</th>\n",
       "      <th>...</th>\n",
       "      <th>cis_bond</th>\n",
       "      <th>energy_torsion</th>\n",
       "      <th>backbone_vdwclash</th>\n",
       "      <th>energy_dipole</th>\n",
       "      <th>water</th>\n",
       "      <th>disulfide</th>\n",
       "      <th>energy_kon</th>\n",
       "      <th>partcov</th>\n",
       "      <th>energyIonisation</th>\n",
       "      <th>entr_complex</th>\n",
       "    </tr>\n",
       "  </thead>\n",
       "  <tbody>\n",
       "    <tr>\n",
       "      <th>2B3B_A_0</th>\n",
       "      <td>17.16314</td>\n",
       "      <td>-0.032954</td>\n",
       "      <td>2.503543</td>\n",
       "      <td>-0.724121</td>\n",
       "      <td>0.603113</td>\n",
       "      <td>-0.063755</td>\n",
       "      <td>-1.048971</td>\n",
       "      <td>15.034932</td>\n",
       "      <td>0.33014</td>\n",
       "      <td>0.2052</td>\n",
       "      <td>...</td>\n",
       "      <td>0.0</td>\n",
       "      <td>0.053084</td>\n",
       "      <td>0.004292</td>\n",
       "      <td>0.135627</td>\n",
       "      <td>0.0</td>\n",
       "      <td>0.0</td>\n",
       "      <td>0.0</td>\n",
       "      <td>0.0</td>\n",
       "      <td>0.167301</td>\n",
       "      <td>0.0</td>\n",
       "    </tr>\n",
       "  </tbody>\n",
       "</table>\n",
       "<p>1 rows × 22 columns</p>\n",
       "</div>"
      ],
      "text/plain": [
       "             total  backHbond  sideHbond  energy_VdW   electro  energy_SolvP  \\\n",
       "2B3B_A_0  17.16314  -0.032954   2.503543   -0.724121  0.603113     -0.063755   \n",
       "\n",
       "          energy_SolvH  energy_vdwclash  entrop_sc  entrop_mc  ...  cis_bond  \\\n",
       "2B3B_A_0     -1.048971        15.034932    0.33014     0.2052  ...       0.0   \n",
       "\n",
       "          energy_torsion  backbone_vdwclash  energy_dipole  water  disulfide  \\\n",
       "2B3B_A_0        0.053084           0.004292       0.135627    0.0        0.0   \n",
       "\n",
       "          energy_kon  partcov  energyIonisation  entr_complex  \n",
       "2B3B_A_0         0.0      0.0          0.167301           0.0  \n",
       "\n",
       "[1 rows x 22 columns]"
      ]
     },
     "execution_count": 16,
     "metadata": {},
     "output_type": "execute_result"
    }
   ],
   "source": [
    "energyDf_GLC"
   ]
  },
  {
   "cell_type": "markdown",
   "id": "simplified-oxide",
   "metadata": {},
   "source": [
    "While for the structure without the ligand (which reproduces the results of having GLC as an unrecognized molecule) the energy, while destabilizing is not causing catastrophic clashes."
   ]
  },
  {
   "cell_type": "code",
   "execution_count": 17,
   "id": "protecting-shipping",
   "metadata": {},
   "outputs": [
    {
     "data": {
      "text/html": [
       "<div>\n",
       "<style scoped>\n",
       "    .dataframe tbody tr th:only-of-type {\n",
       "        vertical-align: middle;\n",
       "    }\n",
       "\n",
       "    .dataframe tbody tr th {\n",
       "        vertical-align: top;\n",
       "    }\n",
       "\n",
       "    .dataframe thead th {\n",
       "        text-align: right;\n",
       "    }\n",
       "</style>\n",
       "<table border=\"1\" class=\"dataframe\">\n",
       "  <thead>\n",
       "    <tr style=\"text-align: right;\">\n",
       "      <th></th>\n",
       "      <th>total</th>\n",
       "      <th>backHbond</th>\n",
       "      <th>sideHbond</th>\n",
       "      <th>energy_VdW</th>\n",
       "      <th>electro</th>\n",
       "      <th>energy_SolvP</th>\n",
       "      <th>energy_SolvH</th>\n",
       "      <th>energy_vdwclash</th>\n",
       "      <th>entrop_sc</th>\n",
       "      <th>entrop_mc</th>\n",
       "      <th>...</th>\n",
       "      <th>cis_bond</th>\n",
       "      <th>energy_torsion</th>\n",
       "      <th>backbone_vdwclash</th>\n",
       "      <th>energy_dipole</th>\n",
       "      <th>water</th>\n",
       "      <th>disulfide</th>\n",
       "      <th>energy_kon</th>\n",
       "      <th>partcov</th>\n",
       "      <th>energyIonisation</th>\n",
       "      <th>entr_complex</th>\n",
       "    </tr>\n",
       "  </thead>\n",
       "  <tbody>\n",
       "    <tr>\n",
       "      <th>2B3B_A_copy_0</th>\n",
       "      <td>1.308852</td>\n",
       "      <td>-0.010731</td>\n",
       "      <td>2.222554</td>\n",
       "      <td>-0.857501</td>\n",
       "      <td>0.178194</td>\n",
       "      <td>-0.501598</td>\n",
       "      <td>-1.189454</td>\n",
       "      <td>0.473489</td>\n",
       "      <td>0.370059</td>\n",
       "      <td>0.238666</td>\n",
       "      <td>...</td>\n",
       "      <td>0.0</td>\n",
       "      <td>0.00203</td>\n",
       "      <td>0.085438</td>\n",
       "      <td>0.244259</td>\n",
       "      <td>0.0</td>\n",
       "      <td>0.0</td>\n",
       "      <td>0.0</td>\n",
       "      <td>0.0</td>\n",
       "      <td>0.138885</td>\n",
       "      <td>0.0</td>\n",
       "    </tr>\n",
       "  </tbody>\n",
       "</table>\n",
       "<p>1 rows × 22 columns</p>\n",
       "</div>"
      ],
      "text/plain": [
       "                  total  backHbond  sideHbond  energy_VdW   electro  \\\n",
       "2B3B_A_copy_0  1.308852  -0.010731   2.222554   -0.857501  0.178194   \n",
       "\n",
       "               energy_SolvP  energy_SolvH  energy_vdwclash  entrop_sc  \\\n",
       "2B3B_A_copy_0     -0.501598     -1.189454         0.473489   0.370059   \n",
       "\n",
       "               entrop_mc  ...  cis_bond  energy_torsion  backbone_vdwclash  \\\n",
       "2B3B_A_copy_0   0.238666  ...       0.0         0.00203           0.085438   \n",
       "\n",
       "               energy_dipole  water  disulfide  energy_kon  partcov  \\\n",
       "2B3B_A_copy_0       0.244259    0.0        0.0         0.0      0.0   \n",
       "\n",
       "               energyIonisation  entr_complex  \n",
       "2B3B_A_copy_0          0.138885           0.0  \n",
       "\n",
       "[1 rows x 22 columns]"
      ]
     },
     "execution_count": 17,
     "metadata": {},
     "output_type": "execute_result"
    }
   ],
   "source": [
    "energyDf_no_GLC"
   ]
  },
  {
   "cell_type": "code",
   "execution_count": null,
   "id": "honest-offset",
   "metadata": {},
   "outputs": [],
   "source": []
  },
  {
   "cell_type": "code",
   "execution_count": null,
   "id": "arbitrary-watts",
   "metadata": {},
   "outputs": [],
   "source": []
  },
  {
   "cell_type": "code",
   "execution_count": null,
   "id": "coupled-generic",
   "metadata": {},
   "outputs": [],
   "source": []
  },
  {
   "cell_type": "code",
   "execution_count": null,
   "id": "hydraulic-beatles",
   "metadata": {},
   "outputs": [],
   "source": []
  },
  {
   "cell_type": "code",
   "execution_count": null,
   "id": "convinced-impact",
   "metadata": {},
   "outputs": [],
   "source": []
  },
  {
   "cell_type": "code",
   "execution_count": null,
   "id": "prepared-lingerie",
   "metadata": {},
   "outputs": [],
   "source": []
  },
  {
   "cell_type": "code",
   "execution_count": null,
   "id": "average-budapest",
   "metadata": {},
   "outputs": [],
   "source": []
  },
  {
   "cell_type": "code",
   "execution_count": null,
   "id": "surface-intranet",
   "metadata": {},
   "outputs": [],
   "source": []
  },
  {
   "cell_type": "code",
   "execution_count": null,
   "id": "breeding-karen",
   "metadata": {},
   "outputs": [],
   "source": []
  },
  {
   "cell_type": "code",
   "execution_count": null,
   "id": "union-fleece",
   "metadata": {},
   "outputs": [],
   "source": []
  }
 ],
 "metadata": {
  "kernelspec": {
   "display_name": "Python 3",
   "language": "python",
   "name": "python3"
  },
  "language_info": {
   "codemirror_mode": {
    "name": "ipython",
    "version": 3
   },
   "file_extension": ".py",
   "mimetype": "text/x-python",
   "name": "python",
   "nbconvert_exporter": "python",
   "pygments_lexer": "ipython3",
   "version": "3.8.3"
  }
 },
 "nbformat": 4,
 "nbformat_minor": 5
}
