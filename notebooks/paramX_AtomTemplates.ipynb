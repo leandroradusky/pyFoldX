{
 "cells": [
  {
   "cell_type": "markdown",
   "id": "connected-search",
   "metadata": {},
   "source": [
    "# Parameterizing using an existing molecule as template\n",
    "\n",
    "In the case that we are parameterizing a molecule which is really similar to an existing one, we can use this molecule as template and add or change just the desired atoms with its definition, leaving the rest as they are paremeterized.\n",
    "\n",
    "In this example, we are going to parameterize the phosphoaminophosphonic acid-guanylate ester ([GNP](https://www.rcsb.org/ligand/GNP) molecule in the PDB) using as template the [GTP](https://www.rcsb.org/ligand/GTP) molecule, already recognized by FoldX, to be recognized in the energetic analysis over the structure [2RGE](https://www.rcsb.org/structure/2RGE).\n",
    "\n",
    "Following the previous tutorial, we are going to follow the steps.\n",
    "\n",
    "## **Step 1**: Extract the molecule coordinates from the PDB\n"
   ]
  },
  {
   "cell_type": "code",
   "execution_count": 1,
   "id": "active-genius",
   "metadata": {},
   "outputs": [],
   "source": [
    "# This simulates the installation the user will just import pyFoldx.Structure\n",
    "import sys\n",
    "sys.path.append(\"/home/lradusky/Dropbox/workspacesbg/pyFoldX\")"
   ]
  },
  {
   "cell_type": "code",
   "execution_count": 2,
   "id": "urban-fraction",
   "metadata": {},
   "outputs": [],
   "source": [
    "from src.handlers.FileHandler import FileHandler\n",
    "from src.structure.Structure import Structure\n",
    "from src.pyFoldX.paramx import parameterize, PdbMolecule, JSonMolecule\n",
    "\n",
    "# To display images and graphics\n",
    "from IPython.core.display import display, HTML\n",
    "import seaborn as sns"
   ]
  },
  {
   "cell_type": "code",
   "execution_count": 3,
   "id": "mathematical-congress",
   "metadata": {},
   "outputs": [],
   "source": [
    "st_2rge = Structure(\"2RGE\")"
   ]
  },
  {
   "cell_type": "code",
   "execution_count": 4,
   "id": "mounted-verse",
   "metadata": {},
   "outputs": [],
   "source": [
    "# Identifying GLC Residues\n",
    "for chain in st_2rge.data.keys():\n",
    "    for residue in st_2rge.data[chain]:\n",
    "        if st_2rge.data[chain][residue].code == \"GNP\":\n",
    "            gnp_lines = st_2rge.data[chain][residue].getInPDBFormat().split(\"\\n\")"
   ]
  },
  {
   "cell_type": "code",
   "execution_count": 5,
   "id": "ranging-commonwealth",
   "metadata": {},
   "outputs": [
    {
     "data": {
      "text/plain": [
       "['HETATM 1248  PG  GNP A 528     -10.082  65.452 -66.918  1.00 12.88           P  ',\n",
       " 'HETATM 1249  O1G GNP A 528      -9.238  65.041 -65.779  1.00 14.36           O  ',\n",
       " 'HETATM 1250  O2G GNP A 528     -11.140  66.336 -66.494  1.00 15.22           O  ',\n",
       " 'HETATM 1251  O3G GNP A 528     -10.866  64.210 -67.386  1.00 14.32           O  ',\n",
       " 'HETATM 1252  N3B GNP A 528      -9.168  65.997 -68.159  1.00 11.94           N  ',\n",
       " 'HETATM 1253  PB  GNP A 528      -9.761  66.580 -69.595  1.00 12.26           P  ',\n",
       " 'HETATM 1254  O1B GNP A 528     -10.136  65.524 -70.555  1.00 11.83           O  ',\n",
       " 'HETATM 1255  O2B GNP A 528     -10.779  67.612 -69.469  1.00 14.27           O  ',\n",
       " 'HETATM 1256  O3A GNP A 528      -8.506  67.322 -70.246  1.00 11.83           O  ',\n",
       " 'HETATM 1257  PA  GNP A 528      -8.168  68.923 -70.256  1.00 12.46           P  ',\n",
       " 'HETATM 1258  O1A GNP A 528      -9.135  69.640 -71.136  1.00 12.87           O  ',\n",
       " 'HETATM 1259  O2A GNP A 528      -7.956  69.414 -68.873  1.00 12.33           O  ',\n",
       " 'HETATM 1260  O5* GNP A 528      -6.794  68.892 -71.047  1.00 12.48           O  ',\n",
       " 'HETATM 1261  C5* GNP A 528      -5.642  68.249 -70.439  1.00 13.10           C  ',\n",
       " 'HETATM 1262  C4* GNP A 528      -4.346  68.853 -70.996  1.00 12.49           C  ',\n",
       " 'HETATM 1263  O4* GNP A 528      -4.313  68.643 -72.425  1.00 12.94           O  ',\n",
       " 'HETATM 1264  C3* GNP A 528      -4.236  70.375 -70.789  1.00 13.05           C  ',\n",
       " 'HETATM 1265  O3* GNP A 528      -2.886  70.765 -70.454  1.00 14.02           O  ',\n",
       " 'HETATM 1266  C2* GNP A 528      -4.710  70.937 -72.113  1.00 12.69           C  ',\n",
       " 'HETATM 1267  O2* GNP A 528      -4.126  72.188 -72.462  1.00 12.51           O  ',\n",
       " 'HETATM 1268  C1* GNP A 528      -4.203  69.893 -73.109  1.00 13.10           C  ',\n",
       " 'HETATM 1269  N9  GNP A 528      -5.037  69.829 -74.322  1.00 12.36           N  ',\n",
       " 'HETATM 1270  C8  GNP A 528      -6.403  69.615 -74.434  1.00 13.48           C  ',\n",
       " 'HETATM 1271  N7  GNP A 528      -6.858  69.610 -75.641  1.00 11.65           N  ',\n",
       " 'HETATM 1272  C5  GNP A 528      -5.713  69.842 -76.427  1.00 11.36           C  ',\n",
       " 'HETATM 1273  C6  GNP A 528      -5.549  69.950 -77.866  1.00 12.71           C  ',\n",
       " 'HETATM 1274  O6  GNP A 528      -6.410  69.858 -78.746  1.00 12.13           O  ',\n",
       " 'HETATM 1275  N1  GNP A 528      -4.218  70.191 -78.238  1.00 11.62           N  ',\n",
       " 'HETATM 1276  C2  GNP A 528      -3.143  70.317 -77.358  1.00 13.40           C  ',\n",
       " 'HETATM 1277  N2  GNP A 528      -1.926  70.548 -77.880  1.00 14.35           N  ',\n",
       " 'HETATM 1278  N3  GNP A 528      -3.295  70.211 -76.015  1.00 12.48           N  ',\n",
       " 'HETATM 1279  C4  GNP A 528      -4.590  69.981 -75.614  1.00 11.81           C  ']"
      ]
     },
     "execution_count": 5,
     "metadata": {},
     "output_type": "execute_result"
    }
   ],
   "source": [
    "gnp_lines"
   ]
  },
  {
   "cell_type": "markdown",
   "id": "adult-christian",
   "metadata": {},
   "source": [
    "## **Step 2**: Mapping the atoms to parametrized atoms\n",
    "\n",
    "For all the atoms, we are going to use the existing parameterization for GTP, except for the atom named N3B in GNP and is a nitrogen instead of the O3B in GTP. Because there is not an exact nitrogen like this, we will use the \"N_guanidino\" parameters, which are the one that resemble the most its chemical characteristics."
   ]
  },
  {
   "cell_type": "code",
   "execution_count": 6,
   "id": "everyday-watts",
   "metadata": {},
   "outputs": [],
   "source": [
    "gnp_mappings = {\"PG\":(\"PG\",\"GTP\"),\n",
    "                \"O1G\":(\"O1G\",\"GTP\"),\n",
    "                \"O2G\":(\"O2G\",\"GTP\"),\n",
    "                \"O3G\":(\"O3G\",\"GTP\"),\n",
    "                \"N3B\":\"N_guanidino\",\n",
    "                \"PB\":(\"PB\",\"GTP\"),\n",
    "                \"O1B\":(\"O1B\",\"GTP\"),\n",
    "                \"O2B\":(\"O2B\",\"GTP\"),\n",
    "                \"O3A\":(\"O3A\",\"GTP\"),\n",
    "                \"PA\":(\"PA\",\"GTP\"),\n",
    "                \"O1A\":(\"O1A\",\"GTP\"),\n",
    "                \"O2A\":(\"O2A\",\"GTP\"),\n",
    "                \"O5*\":(\"O5*\",\"GTP\"),\n",
    "                \"C5*\":(\"C5*\",\"GTP\"),\n",
    "                \"C4*\":(\"C4*\",\"GTP\"),\n",
    "                \"O4*\":(\"O4*\",\"GTP\"),\n",
    "                \"C3*\":(\"C3*\",\"GTP\"),\n",
    "                \"O3*\":(\"O3*\",\"GTP\"),\n",
    "                \"C2*\":(\"C2*\",\"GTP\"),\n",
    "                \"O2*\":(\"O2*\",\"GTP\"),\n",
    "                \"C1*\":(\"C1*\",\"GTP\"),\n",
    "                \"N9\":(\"N9\",\"GTP\"),\n",
    "                \"C8\":(\"C8\",\"GTP\"),\n",
    "                \"N7\":(\"N7\",\"GTP\"),\n",
    "                \"C5\":(\"C5\",\"GTP\"),\n",
    "                \"C6\":(\"C6\",\"GTP\"),\n",
    "                \"O6\":(\"O6\",\"GTP\"),\n",
    "                \"N1\":(\"N1\",\"GTP\"),\n",
    "                \"C2\":(\"C2\",\"GTP\"),\n",
    "                \"N2\":(\"N2\",\"GTP\"),\n",
    "                \"N3\":(\"N3\",\"GTP\"),\n",
    "                \"C4\":(\"C4\",\"GTP\")}"
   ]
  },
  {
   "cell_type": "markdown",
   "id": "plain-escape",
   "metadata": {},
   "source": [
    "## **Step 3**: Creating the JSON molecule parameter file"
   ]
  },
  {
   "cell_type": "code",
   "execution_count": 7,
   "id": "stupid-chase",
   "metadata": {},
   "outputs": [
    {
     "name": "stdout",
     "output_type": "stream",
     "text": [
      "Mappings loaded:\n",
      "Atom PG mapped to atom ('PG', 'GTP')\n",
      "Atom O1G mapped to atom ('O1G', 'GTP')\n",
      "Atom O2G mapped to atom ('O2G', 'GTP')\n",
      "Atom O3G mapped to atom ('O3G', 'GTP')\n",
      "Atom N3B mapped to atom ('NH2', 'ARG')\n",
      "Atom PB mapped to atom ('PB', 'GTP')\n",
      "Atom O1B mapped to atom ('O1B', 'GTP')\n",
      "Atom O2B mapped to atom ('O2B', 'GTP')\n",
      "Atom O3A mapped to atom ('O3A', 'GTP')\n",
      "Atom PA mapped to atom ('PA', 'GTP')\n",
      "Atom O1A mapped to atom ('O1A', 'GTP')\n",
      "Atom O2A mapped to atom ('O2A', 'GTP')\n",
      "Atom O5* mapped to atom ('O5*', 'GTP')\n",
      "Atom C5* mapped to atom ('C5*', 'GTP')\n",
      "Atom C4* mapped to atom ('C4*', 'GTP')\n",
      "Atom O4* mapped to atom ('O4*', 'GTP')\n",
      "Atom C3* mapped to atom ('C3*', 'GTP')\n",
      "Atom O3* mapped to atom ('O3*', 'GTP')\n",
      "Atom C2* mapped to atom ('C2*', 'GTP')\n",
      "Atom O2* mapped to atom ('O2*', 'GTP')\n",
      "Atom C1* mapped to atom ('C1*', 'GTP')\n",
      "Atom N9 mapped to atom ('N9', 'GTP')\n",
      "Atom C8 mapped to atom ('C8', 'GTP')\n",
      "Atom N7 mapped to atom ('N7', 'GTP')\n",
      "Atom C5 mapped to atom ('C5', 'GTP')\n",
      "Atom C6 mapped to atom ('C6', 'GTP')\n",
      "Atom O6 mapped to atom ('O6', 'GTP')\n",
      "Atom N1 mapped to atom ('N1', 'GTP')\n",
      "Atom C2 mapped to atom ('C2', 'GTP')\n",
      "Atom N2 mapped to atom ('N2', 'GTP')\n",
      "Atom N3 mapped to atom ('N3', 'GTP')\n",
      "Atom C4 mapped to atom ('C4', 'GTP')\n"
     ]
    },
    {
     "data": {
      "text/plain": [
       "True"
      ]
     },
     "execution_count": 7,
     "metadata": {},
     "output_type": "execute_result"
    }
   ],
   "source": [
    "newMol = parameterize( PdbMolecule(fromString=gnp_lines), gnp_mappings)\n",
    "FileHandler.writeLine(\"molecules/GNP.json\", newMol.toJson())"
   ]
  },
  {
   "cell_type": "markdown",
   "id": "military-adventure",
   "metadata": {},
   "source": [
    "## Testing if the molecule is recognized\n",
    "\n",
    "To test if the molecule was correctly recognized by FoldX after the parameterization, we are going to repair the structure. If the molecule is not recognized, it will be erased from the resulting repaired structure."
   ]
  },
  {
   "cell_type": "code",
   "execution_count": 8,
   "id": "gross-registrar",
   "metadata": {},
   "outputs": [
    {
     "name": "stdout",
     "output_type": "stream",
     "text": [
      "Repairing structure...\n",
      "Structure repaired.\n"
     ]
    }
   ],
   "source": [
    "st_2rge_rep = st_2rge.repair()"
   ]
  },
  {
   "cell_type": "code",
   "execution_count": 9,
   "id": "increasing-washer",
   "metadata": {},
   "outputs": [
    {
     "data": {
      "text/plain": [
       "True"
      ]
     },
     "execution_count": 9,
     "metadata": {},
     "output_type": "execute_result"
    }
   ],
   "source": [
    "FileHandler.writeLines(\"data/parameterization/2rge_rep.pdb\", st_2rge_rep.toPdb())"
   ]
  },
  {
   "cell_type": "markdown",
   "id": "amino-massachusetts",
   "metadata": {},
   "source": [
    "Let's evaluate the energy of the original versus the repaired structure."
   ]
  },
  {
   "cell_type": "code",
   "execution_count": 10,
   "id": "further-evening",
   "metadata": {},
   "outputs": [
    {
     "name": "stdout",
     "output_type": "stream",
     "text": [
      "Computing total energy for structure...\n",
      "Energy computed.\n",
      "Computing total energy for structure...\n",
      "Energy computed.\n"
     ]
    },
    {
     "data": {
      "text/html": [
       "<div>\n",
       "<style scoped>\n",
       "    .dataframe tbody tr th:only-of-type {\n",
       "        vertical-align: middle;\n",
       "    }\n",
       "\n",
       "    .dataframe tbody tr th {\n",
       "        vertical-align: top;\n",
       "    }\n",
       "\n",
       "    .dataframe thead th {\n",
       "        text-align: right;\n",
       "    }\n",
       "</style>\n",
       "<table border=\"1\" class=\"dataframe\">\n",
       "  <thead>\n",
       "    <tr style=\"text-align: right;\">\n",
       "      <th></th>\n",
       "      <th>total</th>\n",
       "      <th>backHbond</th>\n",
       "      <th>sideHbond</th>\n",
       "      <th>energy_VdW</th>\n",
       "      <th>electro</th>\n",
       "      <th>energy_SolvP</th>\n",
       "      <th>energy_SolvH</th>\n",
       "      <th>energy_vdwclash</th>\n",
       "      <th>entrop_sc</th>\n",
       "      <th>entrop_mc</th>\n",
       "      <th>...</th>\n",
       "      <th>cis_bond</th>\n",
       "      <th>energy_torsion</th>\n",
       "      <th>backbone_vdwclash</th>\n",
       "      <th>energy_dipole</th>\n",
       "      <th>water</th>\n",
       "      <th>disulfide</th>\n",
       "      <th>energy_kon</th>\n",
       "      <th>partcov</th>\n",
       "      <th>energyIonisation</th>\n",
       "      <th>entr_complex</th>\n",
       "    </tr>\n",
       "  </thead>\n",
       "  <tbody>\n",
       "    <tr>\n",
       "      <th>2RGE</th>\n",
       "      <td>50.420317</td>\n",
       "      <td>-104.792516</td>\n",
       "      <td>-30.712581</td>\n",
       "      <td>-193.201841</td>\n",
       "      <td>-16.862081</td>\n",
       "      <td>293.182494</td>\n",
       "      <td>-249.154560</td>\n",
       "      <td>21.123953</td>\n",
       "      <td>101.641763</td>\n",
       "      <td>238.831948</td>\n",
       "      <td>...</td>\n",
       "      <td>0.0</td>\n",
       "      <td>6.541148</td>\n",
       "      <td>103.628009</td>\n",
       "      <td>-3.650318</td>\n",
       "      <td>0.0</td>\n",
       "      <td>0.0</td>\n",
       "      <td>0.0</td>\n",
       "      <td>-12.944199</td>\n",
       "      <td>0.417106</td>\n",
       "      <td>0.0</td>\n",
       "    </tr>\n",
       "    <tr>\n",
       "      <th>2RGE_Rep</th>\n",
       "      <td>-3.022834</td>\n",
       "      <td>-115.526351</td>\n",
       "      <td>-51.507106</td>\n",
       "      <td>-190.760774</td>\n",
       "      <td>-14.697767</td>\n",
       "      <td>276.697511</td>\n",
       "      <td>-249.644431</td>\n",
       "      <td>11.592233</td>\n",
       "      <td>105.499643</td>\n",
       "      <td>239.297422</td>\n",
       "      <td>...</td>\n",
       "      <td>0.0</td>\n",
       "      <td>3.194856</td>\n",
       "      <td>104.040163</td>\n",
       "      <td>-4.163318</td>\n",
       "      <td>0.0</td>\n",
       "      <td>0.0</td>\n",
       "      <td>0.0</td>\n",
       "      <td>-13.188657</td>\n",
       "      <td>0.183905</td>\n",
       "      <td>0.0</td>\n",
       "    </tr>\n",
       "  </tbody>\n",
       "</table>\n",
       "<p>2 rows × 22 columns</p>\n",
       "</div>"
      ],
      "text/plain": [
       "              total   backHbond  sideHbond  energy_VdW    electro  \\\n",
       "2RGE      50.420317 -104.792516 -30.712581 -193.201841 -16.862081   \n",
       "2RGE_Rep  -3.022834 -115.526351 -51.507106 -190.760774 -14.697767   \n",
       "\n",
       "          energy_SolvP  energy_SolvH  energy_vdwclash   entrop_sc   entrop_mc  \\\n",
       "2RGE        293.182494   -249.154560        21.123953  101.641763  238.831948   \n",
       "2RGE_Rep    276.697511   -249.644431        11.592233  105.499643  239.297422   \n",
       "\n",
       "          ...  cis_bond  energy_torsion  backbone_vdwclash  energy_dipole  \\\n",
       "2RGE      ...       0.0        6.541148         103.628009      -3.650318   \n",
       "2RGE_Rep  ...       0.0        3.194856         104.040163      -4.163318   \n",
       "\n",
       "          water  disulfide  energy_kon    partcov  energyIonisation  \\\n",
       "2RGE        0.0        0.0         0.0 -12.944199          0.417106   \n",
       "2RGE_Rep    0.0        0.0         0.0 -13.188657          0.183905   \n",
       "\n",
       "          entr_complex  \n",
       "2RGE               0.0  \n",
       "2RGE_Rep           0.0  \n",
       "\n",
       "[2 rows x 22 columns]"
      ]
     },
     "execution_count": 10,
     "metadata": {},
     "output_type": "execute_result"
    }
   ],
   "source": [
    "st_2rge.getTotalEnergy().append(st_2rge_rep.getTotalEnergy())"
   ]
  },
  {
   "cell_type": "code",
   "execution_count": null,
   "id": "typical-campaign",
   "metadata": {},
   "outputs": [],
   "source": []
  }
 ],
 "metadata": {
  "kernelspec": {
   "display_name": "Python 3",
   "language": "python",
   "name": "python3"
  },
  "language_info": {
   "codemirror_mode": {
    "name": "ipython",
    "version": 3
   },
   "file_extension": ".py",
   "mimetype": "text/x-python",
   "name": "python",
   "nbconvert_exporter": "python",
   "pygments_lexer": "ipython3",
   "version": "3.8.3"
  }
 },
 "nbformat": 4,
 "nbformat_minor": 5
}
